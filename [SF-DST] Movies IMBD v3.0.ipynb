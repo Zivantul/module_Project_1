{
 "cells": [
  {
   "cell_type": "code",
   "execution_count": 548,
   "metadata": {
    "_cell_guid": "b1076dfc-b9ad-4769-8c92-a6c4dae69d19",
    "_uuid": "8f2839f25d086af736a60e9eeb907d3b93b6e0e5"
   },
   "outputs": [],
   "source": [
    "import numpy as np\n",
    "import pandas as pd\n",
    "import seaborn as sns\n",
    "import matplotlib.pyplot as plt\n",
    "import os\n",
    "from collections import Counter\n",
    "from datetime import datetime"
   ]
  },
  {
   "cell_type": "code",
   "execution_count": 549,
   "metadata": {},
   "outputs": [
    {
     "data": {
      "text/html": [
       "<div>\n",
       "<style scoped>\n",
       "    .dataframe tbody tr th:only-of-type {\n",
       "        vertical-align: middle;\n",
       "    }\n",
       "\n",
       "    .dataframe tbody tr th {\n",
       "        vertical-align: top;\n",
       "    }\n",
       "\n",
       "    .dataframe thead th {\n",
       "        text-align: right;\n",
       "    }\n",
       "</style>\n",
       "<table border=\"1\" class=\"dataframe\">\n",
       "  <thead>\n",
       "    <tr style=\"text-align: right;\">\n",
       "      <th></th>\n",
       "      <th>imdb_id</th>\n",
       "      <th>popularity</th>\n",
       "      <th>budget</th>\n",
       "      <th>revenue</th>\n",
       "      <th>original_title</th>\n",
       "      <th>cast</th>\n",
       "      <th>director</th>\n",
       "      <th>tagline</th>\n",
       "      <th>overview</th>\n",
       "      <th>runtime</th>\n",
       "      <th>genres</th>\n",
       "      <th>production_companies</th>\n",
       "      <th>release_date</th>\n",
       "      <th>vote_count</th>\n",
       "      <th>vote_average</th>\n",
       "      <th>release_year</th>\n",
       "    </tr>\n",
       "  </thead>\n",
       "  <tbody>\n",
       "    <tr>\n",
       "      <td>0</td>\n",
       "      <td>tt0369610</td>\n",
       "      <td>32.985763</td>\n",
       "      <td>150000000</td>\n",
       "      <td>1513528810</td>\n",
       "      <td>Jurassic World</td>\n",
       "      <td>Chris Pratt|Bryce Dallas Howard|Irrfan Khan|Vi...</td>\n",
       "      <td>Colin Trevorrow</td>\n",
       "      <td>The park is open.</td>\n",
       "      <td>Twenty-two years after the events of Jurassic ...</td>\n",
       "      <td>124</td>\n",
       "      <td>Action|Adventure|Science Fiction|Thriller</td>\n",
       "      <td>Universal Studios|Amblin Entertainment|Legenda...</td>\n",
       "      <td>6/9/2015</td>\n",
       "      <td>5562</td>\n",
       "      <td>6.5</td>\n",
       "      <td>2015</td>\n",
       "    </tr>\n",
       "    <tr>\n",
       "      <td>1</td>\n",
       "      <td>tt1392190</td>\n",
       "      <td>28.419936</td>\n",
       "      <td>150000000</td>\n",
       "      <td>378436354</td>\n",
       "      <td>Mad Max: Fury Road</td>\n",
       "      <td>Tom Hardy|Charlize Theron|Hugh Keays-Byrne|Nic...</td>\n",
       "      <td>George Miller</td>\n",
       "      <td>What a Lovely Day.</td>\n",
       "      <td>An apocalyptic story set in the furthest reach...</td>\n",
       "      <td>120</td>\n",
       "      <td>Action|Adventure|Science Fiction|Thriller</td>\n",
       "      <td>Village Roadshow Pictures|Kennedy Miller Produ...</td>\n",
       "      <td>5/13/2015</td>\n",
       "      <td>6185</td>\n",
       "      <td>7.1</td>\n",
       "      <td>2015</td>\n",
       "    </tr>\n",
       "    <tr>\n",
       "      <td>2</td>\n",
       "      <td>tt2908446</td>\n",
       "      <td>13.112507</td>\n",
       "      <td>110000000</td>\n",
       "      <td>295238201</td>\n",
       "      <td>Insurgent</td>\n",
       "      <td>Shailene Woodley|Theo James|Kate Winslet|Ansel...</td>\n",
       "      <td>Robert Schwentke</td>\n",
       "      <td>One Choice Can Destroy You</td>\n",
       "      <td>Beatrice Prior must confront her inner demons ...</td>\n",
       "      <td>119</td>\n",
       "      <td>Adventure|Science Fiction|Thriller</td>\n",
       "      <td>Summit Entertainment|Mandeville Films|Red Wago...</td>\n",
       "      <td>3/18/2015</td>\n",
       "      <td>2480</td>\n",
       "      <td>6.3</td>\n",
       "      <td>2015</td>\n",
       "    </tr>\n",
       "    <tr>\n",
       "      <td>3</td>\n",
       "      <td>tt2488496</td>\n",
       "      <td>11.173104</td>\n",
       "      <td>200000000</td>\n",
       "      <td>2068178225</td>\n",
       "      <td>Star Wars: The Force Awakens</td>\n",
       "      <td>Harrison Ford|Mark Hamill|Carrie Fisher|Adam D...</td>\n",
       "      <td>J.J. Abrams</td>\n",
       "      <td>Every generation has a story.</td>\n",
       "      <td>Thirty years after defeating the Galactic Empi...</td>\n",
       "      <td>136</td>\n",
       "      <td>Action|Adventure|Science Fiction|Fantasy</td>\n",
       "      <td>Lucasfilm|Truenorth Productions|Bad Robot</td>\n",
       "      <td>12/15/2015</td>\n",
       "      <td>5292</td>\n",
       "      <td>7.5</td>\n",
       "      <td>2015</td>\n",
       "    </tr>\n",
       "    <tr>\n",
       "      <td>4</td>\n",
       "      <td>tt2820852</td>\n",
       "      <td>9.335014</td>\n",
       "      <td>190000000</td>\n",
       "      <td>1506249360</td>\n",
       "      <td>Furious 7</td>\n",
       "      <td>Vin Diesel|Paul Walker|Jason Statham|Michelle ...</td>\n",
       "      <td>James Wan</td>\n",
       "      <td>Vengeance Hits Home</td>\n",
       "      <td>Deckard Shaw seeks revenge against Dominic Tor...</td>\n",
       "      <td>137</td>\n",
       "      <td>Action|Crime|Thriller</td>\n",
       "      <td>Universal Pictures|Original Film|Media Rights ...</td>\n",
       "      <td>4/1/2015</td>\n",
       "      <td>2947</td>\n",
       "      <td>7.3</td>\n",
       "      <td>2015</td>\n",
       "    </tr>\n",
       "  </tbody>\n",
       "</table>\n",
       "</div>"
      ],
      "text/plain": [
       "     imdb_id  popularity     budget     revenue                original_title  \\\n",
       "0  tt0369610   32.985763  150000000  1513528810                Jurassic World   \n",
       "1  tt1392190   28.419936  150000000   378436354            Mad Max: Fury Road   \n",
       "2  tt2908446   13.112507  110000000   295238201                     Insurgent   \n",
       "3  tt2488496   11.173104  200000000  2068178225  Star Wars: The Force Awakens   \n",
       "4  tt2820852    9.335014  190000000  1506249360                     Furious 7   \n",
       "\n",
       "                                                cast          director  \\\n",
       "0  Chris Pratt|Bryce Dallas Howard|Irrfan Khan|Vi...   Colin Trevorrow   \n",
       "1  Tom Hardy|Charlize Theron|Hugh Keays-Byrne|Nic...     George Miller   \n",
       "2  Shailene Woodley|Theo James|Kate Winslet|Ansel...  Robert Schwentke   \n",
       "3  Harrison Ford|Mark Hamill|Carrie Fisher|Adam D...       J.J. Abrams   \n",
       "4  Vin Diesel|Paul Walker|Jason Statham|Michelle ...         James Wan   \n",
       "\n",
       "                         tagline  \\\n",
       "0              The park is open.   \n",
       "1             What a Lovely Day.   \n",
       "2     One Choice Can Destroy You   \n",
       "3  Every generation has a story.   \n",
       "4            Vengeance Hits Home   \n",
       "\n",
       "                                            overview  runtime  \\\n",
       "0  Twenty-two years after the events of Jurassic ...      124   \n",
       "1  An apocalyptic story set in the furthest reach...      120   \n",
       "2  Beatrice Prior must confront her inner demons ...      119   \n",
       "3  Thirty years after defeating the Galactic Empi...      136   \n",
       "4  Deckard Shaw seeks revenge against Dominic Tor...      137   \n",
       "\n",
       "                                      genres  \\\n",
       "0  Action|Adventure|Science Fiction|Thriller   \n",
       "1  Action|Adventure|Science Fiction|Thriller   \n",
       "2         Adventure|Science Fiction|Thriller   \n",
       "3   Action|Adventure|Science Fiction|Fantasy   \n",
       "4                      Action|Crime|Thriller   \n",
       "\n",
       "                                production_companies release_date  vote_count  \\\n",
       "0  Universal Studios|Amblin Entertainment|Legenda...     6/9/2015        5562   \n",
       "1  Village Roadshow Pictures|Kennedy Miller Produ...    5/13/2015        6185   \n",
       "2  Summit Entertainment|Mandeville Films|Red Wago...    3/18/2015        2480   \n",
       "3          Lucasfilm|Truenorth Productions|Bad Robot   12/15/2015        5292   \n",
       "4  Universal Pictures|Original Film|Media Rights ...     4/1/2015        2947   \n",
       "\n",
       "   vote_average  release_year  \n",
       "0           6.5          2015  \n",
       "1           7.1          2015  \n",
       "2           6.3          2015  \n",
       "3           7.5          2015  \n",
       "4           7.3          2015  "
      ]
     },
     "execution_count": 549,
     "metadata": {},
     "output_type": "execute_result"
    }
   ],
   "source": [
    "data = pd.read_csv('data.csv')\n",
    "data.head(5)"
   ]
  },
  {
   "cell_type": "code",
   "execution_count": 550,
   "metadata": {},
   "outputs": [
    {
     "data": {
      "text/plain": [
       "1890"
      ]
     },
     "execution_count": 550,
     "metadata": {},
     "output_type": "execute_result"
    }
   ],
   "source": [
    "len(data)"
   ]
  },
  {
   "cell_type": "code",
   "execution_count": 551,
   "metadata": {},
   "outputs": [],
   "source": [
    "# функция для очистки списков с названиями фильмов от кодов\n",
    "def clean_title (ttl):\n",
    "    srch = ' (tt'\n",
    "    srch2 = ' tt'\n",
    "    if srch in ttl:\n",
    "        ln = ttl.rindex(srch)\n",
    "        return ttl[:ln]\n",
    "    elif srch2 in ttl:\n",
    "        ln = ttl.rindex(srch2)\n",
    "        return ttl[:ln]"
   ]
  },
  {
   "cell_type": "code",
   "execution_count": 552,
   "metadata": {},
   "outputs": [],
   "source": [
    "# функция для формирования месяца\n",
    "def get_month (dt):\n",
    "    res_dt = datetime.strptime(dt, '%m/%d/%Y')\n",
    "    return res_dt.month"
   ]
  },
  {
   "cell_type": "code",
   "execution_count": 553,
   "metadata": {},
   "outputs": [],
   "source": [
    "# функция для определения длинны названия\n",
    "def get_title_len (dt):\n",
    "    return len(str(dt))"
   ]
  },
  {
   "cell_type": "code",
   "execution_count": 554,
   "metadata": {},
   "outputs": [],
   "source": [
    "# функция для определения количества слов в названия\n",
    "def get_title_words_count (dt):\n",
    "    ctr = 1\n",
    "    for i in dt:\n",
    "        if i == ' ':\n",
    "            ctr +=1\n",
    "    return ctr"
   ]
  },
  {
   "cell_type": "markdown",
   "metadata": {},
   "source": [
    "# Предобработка датасета"
   ]
  },
  {
   "cell_type": "code",
   "execution_count": 555,
   "metadata": {},
   "outputs": [],
   "source": [
    "answer_ls = [] # создадим список с ответами. сюда будем добавлять ответы по мере прохождения теста\n",
    "# сюда можем вписать создание новых колонок в датасете"
   ]
  },
  {
   "cell_type": "code",
   "execution_count": 556,
   "metadata": {},
   "outputs": [],
   "source": [
    "# готовим датасет для работы с прибылью\n",
    "data_with_profit = data.copy()\n",
    "data_with_profit['profit'] = data_with_profit['revenue'] - data_with_profit['budget']"
   ]
  },
  {
   "cell_type": "code",
   "execution_count": 557,
   "metadata": {},
   "outputs": [],
   "source": [
    "# датасет с месяцами\n",
    "data_with_month = data_with_profit.copy()\n",
    "data_with_month['month'] = data_with_month.release_date.apply(get_month)"
   ]
  },
  {
   "cell_type": "markdown",
   "metadata": {},
   "source": [
    "# 1. У какого фильма из списка самый большой бюджет?\n",
    "Варианты ответов:\n",
    "1. The Dark Knight Rises (tt1345836)\n",
    "2. Spider-Man 3 (tt0413300)\n",
    "3. Avengers: Age of Ultron (tt2395427)\n",
    "4. The Warrior's Way\t(tt1032751)\n",
    "5. Pirates of the Caribbean: On Stranger Tides (tt1298650)"
   ]
  },
  {
   "cell_type": "code",
   "execution_count": 558,
   "metadata": {},
   "outputs": [],
   "source": [
    "# задаем список фильмов из задания - для поиска\n",
    "film_search_list = ['The Dark Knight Rises (tt1345836)',\n",
    "            'Spider-Man 3 (tt0413300)',\n",
    "            'Avengers: Age of Ultron (tt2395427)',\n",
    "            \"The Warrior's Way (tt1032751)\",\n",
    "            'Pirates of the Caribbean: On Stranger Tides (tt1298650)']\n",
    "film_search_clean_list = []\n",
    "for i in film_search_list:\n",
    "    film_search_clean_list.append(clean_title(i))"
   ]
  },
  {
   "cell_type": "code",
   "execution_count": 559,
   "metadata": {},
   "outputs": [],
   "source": [
    "# форматируем датасет в соответствие с заданием\n",
    "df_cur_films = data[data.original_title.isin(film_search_clean_list)]\n",
    "df_cur_films = df_cur_films.sort_values('budget', ascending = False)\n",
    "df_cur_films = df_cur_films[['original_title','budget']].reset_index()\n",
    "t = str(df_cur_films.at[0,'original_title'])"
   ]
  },
  {
   "cell_type": "code",
   "execution_count": 560,
   "metadata": {},
   "outputs": [
    {
     "data": {
      "text/plain": [
       "\"The Warrior's Way\""
      ]
     },
     "execution_count": 560,
     "metadata": {},
     "output_type": "execute_result"
    }
   ],
   "source": [
    "# выводим ответ\n",
    "t"
   ]
  },
  {
   "cell_type": "code",
   "execution_count": 561,
   "metadata": {},
   "outputs": [],
   "source": [
    "# добавлем ответ в список ответов\n",
    "answer_ls.append(t)"
   ]
  },
  {
   "cell_type": "markdown",
   "metadata": {},
   "source": [
    "# 2. Какой из фильмов самый длительный (в минутах)\n",
    "1. The Lord of the Rings: The Return of the King\t(tt0167260)\n",
    "2. Gods and Generals\t(tt0279111)\n",
    "3. King Kong\t(tt0360717)\n",
    "4. Pearl Harbor\t(tt0213149)\n",
    "5. Alexander\t(tt0346491)"
   ]
  },
  {
   "cell_type": "code",
   "execution_count": 562,
   "metadata": {},
   "outputs": [],
   "source": [
    "# задаем список фильмов из задания - для поиска\n",
    "film_search_list = ['The Lord of the Rings: The Return of the King (tt0167260)',\n",
    "             'Gods and Generals (tt0279111)',\n",
    "             'King Kong (tt0360717)',\n",
    "             'Pearl Harbor (tt0213149)',\n",
    "             'Alexander (tt0346491)']\n",
    "film_search_clean_list = []\n",
    "for i in film_search_list:\n",
    "    film_search_clean_list.append(clean_title(i))"
   ]
  },
  {
   "cell_type": "code",
   "execution_count": 563,
   "metadata": {},
   "outputs": [],
   "source": [
    "df_cur_films = data[data.original_title.isin(film_search_clean_list)]\n",
    "df_cur_films = df_cur_films.sort_values('runtime', ascending = False)\n",
    "df_cur_films = df_cur_films[['original_title','runtime']].reset_index()\n",
    "t = str(df_cur_films.at[0,'original_title'])"
   ]
  },
  {
   "cell_type": "code",
   "execution_count": 564,
   "metadata": {},
   "outputs": [
    {
     "data": {
      "text/plain": [
       "'Gods and Generals'"
      ]
     },
     "execution_count": 564,
     "metadata": {},
     "output_type": "execute_result"
    }
   ],
   "source": [
    "# выводим ответ\n",
    "t"
   ]
  },
  {
   "cell_type": "code",
   "execution_count": 565,
   "metadata": {},
   "outputs": [],
   "source": [
    "# добавлем ответ в список ответов\n",
    "answer_ls.append(t)"
   ]
  },
  {
   "cell_type": "markdown",
   "metadata": {},
   "source": [
    "# 3. Какой из фильмов самый короткий (в минутах)\n",
    "Варианты ответов:\n",
    "\n",
    "1. Home on the Range\ttt0299172\n",
    "2. The Jungle Book 2\ttt0283426\n",
    "3. Winnie the Pooh\ttt1449283\n",
    "4. Corpse Bride\ttt0121164\n",
    "5. Hoodwinked!\ttt0443536"
   ]
  },
  {
   "cell_type": "code",
   "execution_count": 566,
   "metadata": {},
   "outputs": [],
   "source": [
    "# задаем список фильмов из задания - для поиска\n",
    "film_search_list = ['Home on the Range tt0299172',\n",
    "             'The Jungle Book 2 tt0283426',\n",
    "             'Winnie the Pooh tt1449283',\n",
    "             'Corpse Bride tt0121164',\n",
    "             'Hoodwinked! tt0443536']\n",
    "film_search_clean_list = []\n",
    "for i in film_search_list:\n",
    "    film_search_clean_list.append(clean_title(i))"
   ]
  },
  {
   "cell_type": "code",
   "execution_count": 567,
   "metadata": {},
   "outputs": [],
   "source": [
    "df_cur_films = data[data.original_title.isin(film_search_clean_list)]\n",
    "df_cur_films = df_cur_films.sort_values('runtime', ascending = True)\n",
    "df_cur_films = df_cur_films[['original_title','runtime']].reset_index()\n",
    "t = str(df_cur_films.at[0,'original_title'])"
   ]
  },
  {
   "cell_type": "code",
   "execution_count": 568,
   "metadata": {},
   "outputs": [
    {
     "data": {
      "text/plain": [
       "'Winnie the Pooh'"
      ]
     },
     "execution_count": 568,
     "metadata": {},
     "output_type": "execute_result"
    }
   ],
   "source": [
    "# выводим ответ\n",
    "t"
   ]
  },
  {
   "cell_type": "code",
   "execution_count": 569,
   "metadata": {},
   "outputs": [],
   "source": [
    "# добавлем ответ в список ответов\n",
    "answer_ls.append(t)"
   ]
  },
  {
   "cell_type": "markdown",
   "metadata": {},
   "source": [
    "# 4. Средняя длительность фильма?\n",
    "\n",
    "Варианты ответов:\n",
    "1. 115\n",
    "2. 110\n",
    "3. 105\n",
    "4. 120\n",
    "5. 100\n"
   ]
  },
  {
   "cell_type": "code",
   "execution_count": 570,
   "metadata": {},
   "outputs": [
    {
     "data": {
      "text/html": [
       "<div>\n",
       "<style scoped>\n",
       "    .dataframe tbody tr th:only-of-type {\n",
       "        vertical-align: middle;\n",
       "    }\n",
       "\n",
       "    .dataframe tbody tr th {\n",
       "        vertical-align: top;\n",
       "    }\n",
       "\n",
       "    .dataframe thead th {\n",
       "        text-align: right;\n",
       "    }\n",
       "</style>\n",
       "<table border=\"1\" class=\"dataframe\">\n",
       "  <thead>\n",
       "    <tr style=\"text-align: right;\">\n",
       "      <th></th>\n",
       "      <th>popularity</th>\n",
       "      <th>budget</th>\n",
       "      <th>revenue</th>\n",
       "      <th>runtime</th>\n",
       "      <th>vote_count</th>\n",
       "      <th>vote_average</th>\n",
       "      <th>release_year</th>\n",
       "    </tr>\n",
       "  </thead>\n",
       "  <tbody>\n",
       "    <tr>\n",
       "      <td>count</td>\n",
       "      <td>1890.000000</td>\n",
       "      <td>1.890000e+03</td>\n",
       "      <td>1.890000e+03</td>\n",
       "      <td>1890.000000</td>\n",
       "      <td>1890.000000</td>\n",
       "      <td>1890.000000</td>\n",
       "      <td>1890.000000</td>\n",
       "    </tr>\n",
       "    <tr>\n",
       "      <td>mean</td>\n",
       "      <td>1.560611</td>\n",
       "      <td>5.450696e+07</td>\n",
       "      <td>1.552890e+08</td>\n",
       "      <td>109.653439</td>\n",
       "      <td>785.666667</td>\n",
       "      <td>6.140899</td>\n",
       "      <td>2007.861905</td>\n",
       "    </tr>\n",
       "    <tr>\n",
       "      <td>std</td>\n",
       "      <td>1.849471</td>\n",
       "      <td>4.931705e+07</td>\n",
       "      <td>2.146386e+08</td>\n",
       "      <td>18.013641</td>\n",
       "      <td>1068.725880</td>\n",
       "      <td>0.764584</td>\n",
       "      <td>4.467929</td>\n",
       "    </tr>\n",
       "    <tr>\n",
       "      <td>min</td>\n",
       "      <td>0.010335</td>\n",
       "      <td>5.000000e+06</td>\n",
       "      <td>2.033165e+06</td>\n",
       "      <td>63.000000</td>\n",
       "      <td>10.000000</td>\n",
       "      <td>3.300000</td>\n",
       "      <td>2000.000000</td>\n",
       "    </tr>\n",
       "    <tr>\n",
       "      <td>25%</td>\n",
       "      <td>0.643284</td>\n",
       "      <td>2.000000e+07</td>\n",
       "      <td>3.434007e+07</td>\n",
       "      <td>97.000000</td>\n",
       "      <td>164.000000</td>\n",
       "      <td>5.600000</td>\n",
       "      <td>2004.000000</td>\n",
       "    </tr>\n",
       "    <tr>\n",
       "      <td>50%</td>\n",
       "      <td>1.065065</td>\n",
       "      <td>3.800000e+07</td>\n",
       "      <td>8.358664e+07</td>\n",
       "      <td>106.500000</td>\n",
       "      <td>389.000000</td>\n",
       "      <td>6.100000</td>\n",
       "      <td>2008.000000</td>\n",
       "    </tr>\n",
       "    <tr>\n",
       "      <td>75%</td>\n",
       "      <td>1.804537</td>\n",
       "      <td>7.200000e+07</td>\n",
       "      <td>1.782136e+08</td>\n",
       "      <td>120.000000</td>\n",
       "      <td>937.750000</td>\n",
       "      <td>6.600000</td>\n",
       "      <td>2012.000000</td>\n",
       "    </tr>\n",
       "    <tr>\n",
       "      <td>max</td>\n",
       "      <td>32.985763</td>\n",
       "      <td>4.250000e+08</td>\n",
       "      <td>2.781506e+09</td>\n",
       "      <td>214.000000</td>\n",
       "      <td>9767.000000</td>\n",
       "      <td>8.100000</td>\n",
       "      <td>2015.000000</td>\n",
       "    </tr>\n",
       "  </tbody>\n",
       "</table>\n",
       "</div>"
      ],
      "text/plain": [
       "        popularity        budget       revenue      runtime   vote_count  \\\n",
       "count  1890.000000  1.890000e+03  1.890000e+03  1890.000000  1890.000000   \n",
       "mean      1.560611  5.450696e+07  1.552890e+08   109.653439   785.666667   \n",
       "std       1.849471  4.931705e+07  2.146386e+08    18.013641  1068.725880   \n",
       "min       0.010335  5.000000e+06  2.033165e+06    63.000000    10.000000   \n",
       "25%       0.643284  2.000000e+07  3.434007e+07    97.000000   164.000000   \n",
       "50%       1.065065  3.800000e+07  8.358664e+07   106.500000   389.000000   \n",
       "75%       1.804537  7.200000e+07  1.782136e+08   120.000000   937.750000   \n",
       "max      32.985763  4.250000e+08  2.781506e+09   214.000000  9767.000000   \n",
       "\n",
       "       vote_average  release_year  \n",
       "count   1890.000000   1890.000000  \n",
       "mean       6.140899   2007.861905  \n",
       "std        0.764584      4.467929  \n",
       "min        3.300000   2000.000000  \n",
       "25%        5.600000   2004.000000  \n",
       "50%        6.100000   2008.000000  \n",
       "75%        6.600000   2012.000000  \n",
       "max        8.100000   2015.000000  "
      ]
     },
     "execution_count": 570,
     "metadata": {},
     "output_type": "execute_result"
    }
   ],
   "source": [
    "data.describe()"
   ]
  },
  {
   "cell_type": "code",
   "execution_count": 571,
   "metadata": {},
   "outputs": [
    {
     "data": {
      "text/plain": [
       "109.65343915343915"
      ]
     },
     "execution_count": 571,
     "metadata": {},
     "output_type": "execute_result"
    }
   ],
   "source": [
    "data.runtime.mean()"
   ]
  },
  {
   "cell_type": "code",
   "execution_count": 572,
   "metadata": {},
   "outputs": [],
   "source": [
    "t = 110"
   ]
  },
  {
   "cell_type": "code",
   "execution_count": 573,
   "metadata": {},
   "outputs": [],
   "source": [
    "# добавлем ответ в список ответов\n",
    "answer_ls.append(t)"
   ]
  },
  {
   "cell_type": "markdown",
   "metadata": {},
   "source": [
    "# 5. Средняя длительность фильма по медиане?\n",
    "Варианты ответов:\n",
    "1. 106\n",
    "2. 112\n",
    "3. 101\n",
    "4. 120\n",
    "5. 115\n",
    "\n",
    "\n"
   ]
  },
  {
   "cell_type": "code",
   "execution_count": 574,
   "metadata": {},
   "outputs": [
    {
     "data": {
      "text/html": [
       "<div>\n",
       "<style scoped>\n",
       "    .dataframe tbody tr th:only-of-type {\n",
       "        vertical-align: middle;\n",
       "    }\n",
       "\n",
       "    .dataframe tbody tr th {\n",
       "        vertical-align: top;\n",
       "    }\n",
       "\n",
       "    .dataframe thead th {\n",
       "        text-align: right;\n",
       "    }\n",
       "</style>\n",
       "<table border=\"1\" class=\"dataframe\">\n",
       "  <thead>\n",
       "    <tr style=\"text-align: right;\">\n",
       "      <th></th>\n",
       "      <th>popularity</th>\n",
       "      <th>budget</th>\n",
       "      <th>revenue</th>\n",
       "      <th>runtime</th>\n",
       "      <th>vote_count</th>\n",
       "      <th>vote_average</th>\n",
       "      <th>release_year</th>\n",
       "    </tr>\n",
       "  </thead>\n",
       "  <tbody>\n",
       "    <tr>\n",
       "      <td>count</td>\n",
       "      <td>1890.000000</td>\n",
       "      <td>1.890000e+03</td>\n",
       "      <td>1.890000e+03</td>\n",
       "      <td>1890.000000</td>\n",
       "      <td>1890.000000</td>\n",
       "      <td>1890.000000</td>\n",
       "      <td>1890.000000</td>\n",
       "    </tr>\n",
       "    <tr>\n",
       "      <td>mean</td>\n",
       "      <td>1.560611</td>\n",
       "      <td>5.450696e+07</td>\n",
       "      <td>1.552890e+08</td>\n",
       "      <td>109.653439</td>\n",
       "      <td>785.666667</td>\n",
       "      <td>6.140899</td>\n",
       "      <td>2007.861905</td>\n",
       "    </tr>\n",
       "    <tr>\n",
       "      <td>std</td>\n",
       "      <td>1.849471</td>\n",
       "      <td>4.931705e+07</td>\n",
       "      <td>2.146386e+08</td>\n",
       "      <td>18.013641</td>\n",
       "      <td>1068.725880</td>\n",
       "      <td>0.764584</td>\n",
       "      <td>4.467929</td>\n",
       "    </tr>\n",
       "    <tr>\n",
       "      <td>min</td>\n",
       "      <td>0.010335</td>\n",
       "      <td>5.000000e+06</td>\n",
       "      <td>2.033165e+06</td>\n",
       "      <td>63.000000</td>\n",
       "      <td>10.000000</td>\n",
       "      <td>3.300000</td>\n",
       "      <td>2000.000000</td>\n",
       "    </tr>\n",
       "    <tr>\n",
       "      <td>25%</td>\n",
       "      <td>0.643284</td>\n",
       "      <td>2.000000e+07</td>\n",
       "      <td>3.434007e+07</td>\n",
       "      <td>97.000000</td>\n",
       "      <td>164.000000</td>\n",
       "      <td>5.600000</td>\n",
       "      <td>2004.000000</td>\n",
       "    </tr>\n",
       "    <tr>\n",
       "      <td>50%</td>\n",
       "      <td>1.065065</td>\n",
       "      <td>3.800000e+07</td>\n",
       "      <td>8.358664e+07</td>\n",
       "      <td>106.500000</td>\n",
       "      <td>389.000000</td>\n",
       "      <td>6.100000</td>\n",
       "      <td>2008.000000</td>\n",
       "    </tr>\n",
       "    <tr>\n",
       "      <td>75%</td>\n",
       "      <td>1.804537</td>\n",
       "      <td>7.200000e+07</td>\n",
       "      <td>1.782136e+08</td>\n",
       "      <td>120.000000</td>\n",
       "      <td>937.750000</td>\n",
       "      <td>6.600000</td>\n",
       "      <td>2012.000000</td>\n",
       "    </tr>\n",
       "    <tr>\n",
       "      <td>max</td>\n",
       "      <td>32.985763</td>\n",
       "      <td>4.250000e+08</td>\n",
       "      <td>2.781506e+09</td>\n",
       "      <td>214.000000</td>\n",
       "      <td>9767.000000</td>\n",
       "      <td>8.100000</td>\n",
       "      <td>2015.000000</td>\n",
       "    </tr>\n",
       "  </tbody>\n",
       "</table>\n",
       "</div>"
      ],
      "text/plain": [
       "        popularity        budget       revenue      runtime   vote_count  \\\n",
       "count  1890.000000  1.890000e+03  1.890000e+03  1890.000000  1890.000000   \n",
       "mean      1.560611  5.450696e+07  1.552890e+08   109.653439   785.666667   \n",
       "std       1.849471  4.931705e+07  2.146386e+08    18.013641  1068.725880   \n",
       "min       0.010335  5.000000e+06  2.033165e+06    63.000000    10.000000   \n",
       "25%       0.643284  2.000000e+07  3.434007e+07    97.000000   164.000000   \n",
       "50%       1.065065  3.800000e+07  8.358664e+07   106.500000   389.000000   \n",
       "75%       1.804537  7.200000e+07  1.782136e+08   120.000000   937.750000   \n",
       "max      32.985763  4.250000e+08  2.781506e+09   214.000000  9767.000000   \n",
       "\n",
       "       vote_average  release_year  \n",
       "count   1890.000000   1890.000000  \n",
       "mean       6.140899   2007.861905  \n",
       "std        0.764584      4.467929  \n",
       "min        3.300000   2000.000000  \n",
       "25%        5.600000   2004.000000  \n",
       "50%        6.100000   2008.000000  \n",
       "75%        6.600000   2012.000000  \n",
       "max        8.100000   2015.000000  "
      ]
     },
     "execution_count": 574,
     "metadata": {},
     "output_type": "execute_result"
    }
   ],
   "source": [
    "data.describe()"
   ]
  },
  {
   "cell_type": "code",
   "execution_count": 575,
   "metadata": {},
   "outputs": [
    {
     "data": {
      "text/plain": [
       "106.5"
      ]
     },
     "execution_count": 575,
     "metadata": {},
     "output_type": "execute_result"
    }
   ],
   "source": [
    "data.runtime.median()"
   ]
  },
  {
   "cell_type": "code",
   "execution_count": 576,
   "metadata": {},
   "outputs": [],
   "source": [
    "t = 106"
   ]
  },
  {
   "cell_type": "code",
   "execution_count": 577,
   "metadata": {},
   "outputs": [],
   "source": [
    "# добавлем ответ в список ответов\n",
    "answer_ls.append(t)"
   ]
  },
  {
   "cell_type": "markdown",
   "metadata": {},
   "source": [
    "# 6. Какой самый прибыльный фильм?\n",
    "Варианты ответов:\n",
    "1. The Avengers\ttt0848228\n",
    "2. Minions\ttt2293640\n",
    "3. Star Wars: The Force Awakens\ttt2488496\n",
    "4. Furious 7\ttt2820852\n",
    "5. Avatar\ttt0499549"
   ]
  },
  {
   "cell_type": "code",
   "execution_count": 578,
   "metadata": {},
   "outputs": [],
   "source": [
    "# задаем список фильмов из задания - для поиска\n",
    "film_search_list = ['The Avengers tt0848228',\n",
    "             'Minions tt2293640',\n",
    "             'Star Wars: The Force Awakens tt2488496',\n",
    "             'Furious 7 tt2820852',\n",
    "             'Avatar tt0499549']\n",
    "film_search_clean_list = []\n",
    "for i in film_search_list:\n",
    "    film_search_clean_list.append(clean_title(i))"
   ]
  },
  {
   "cell_type": "code",
   "execution_count": 579,
   "metadata": {},
   "outputs": [],
   "source": [
    "df_cur_films = data_with_profit[data_with_profit.original_title.isin(film_search_clean_list)]\n",
    "df_cur_films = df_cur_films.sort_values('profit', ascending = False)\n",
    "df_cur_films = df_cur_films[['original_title','profit']].reset_index()\n",
    "t = str(df_cur_films.at[0,'original_title'])"
   ]
  },
  {
   "cell_type": "code",
   "execution_count": 580,
   "metadata": {},
   "outputs": [
    {
     "data": {
      "text/plain": [
       "'Avatar'"
      ]
     },
     "execution_count": 580,
     "metadata": {},
     "output_type": "execute_result"
    }
   ],
   "source": [
    "# выводим ответ\n",
    "t"
   ]
  },
  {
   "cell_type": "code",
   "execution_count": 581,
   "metadata": {},
   "outputs": [],
   "source": [
    "# добавлем ответ в список ответов\n",
    "answer_ls.append(t)"
   ]
  },
  {
   "cell_type": "markdown",
   "metadata": {},
   "source": [
    "# 7. Какой фильм самый убыточный?\n",
    "Варианты ответов:\n",
    "1. Supernova tt0134983\n",
    "2. The Warrior's Way tt1032751\n",
    "3. Flushed Away\ttt0424095\n",
    "4. The Adventures of Pluto Nash\ttt0180052\n",
    "5. The Lone Ranger\ttt1210819"
   ]
  },
  {
   "cell_type": "code",
   "execution_count": 582,
   "metadata": {},
   "outputs": [],
   "source": [
    "# задаем список фильмов из задания - для поиска\n",
    "film_search_list = ['Supernova tt0134983',\n",
    "             \"The Warrior's Way tt1032751\",\n",
    "             'Flushed Away tt0424095',\n",
    "             'The Adventures of Pluto Nash tt0180052',\n",
    "             'The Lone Ranger tt1210819'\n",
    "            ]\n",
    "film_search_clean_list = []\n",
    "for i in film_search_list:\n",
    "    film_search_clean_list.append(clean_title(i))"
   ]
  },
  {
   "cell_type": "code",
   "execution_count": 583,
   "metadata": {},
   "outputs": [],
   "source": [
    "df_cur_films = data_with_profit[data_with_profit.original_title.isin(film_search_clean_list)]\n",
    "df_cur_films = df_cur_films.sort_values('profit', ascending = True)\n",
    "df_cur_films = df_cur_films[['original_title','profit']].reset_index()\n",
    "t = str(df_cur_films.at[0,'original_title'])"
   ]
  },
  {
   "cell_type": "code",
   "execution_count": 584,
   "metadata": {},
   "outputs": [
    {
     "data": {
      "text/plain": [
       "\"The Warrior's Way\""
      ]
     },
     "execution_count": 584,
     "metadata": {},
     "output_type": "execute_result"
    }
   ],
   "source": [
    "# выводим ответ\n",
    "t"
   ]
  },
  {
   "cell_type": "code",
   "execution_count": 585,
   "metadata": {},
   "outputs": [],
   "source": [
    "# добавлем ответ в список ответов\n",
    "answer_ls.append(t)"
   ]
  },
  {
   "cell_type": "markdown",
   "metadata": {},
   "source": [
    "# 8. Сколько всего фильмов в прибыли?\n",
    "Варианты ответов:\n",
    "1. 1478\n",
    "2. 1520\n",
    "3. 1241\n",
    "4. 1135\n",
    "5. 1398\n"
   ]
  },
  {
   "cell_type": "code",
   "execution_count": 586,
   "metadata": {},
   "outputs": [
    {
     "data": {
      "text/plain": [
       "1478"
      ]
     },
     "execution_count": 586,
     "metadata": {},
     "output_type": "execute_result"
    }
   ],
   "source": [
    "df_cur_films = data[data.revenue > data.budget]\n",
    "df_cur_films.original_title.count()"
   ]
  },
  {
   "cell_type": "code",
   "execution_count": 587,
   "metadata": {},
   "outputs": [],
   "source": [
    "t = 1478"
   ]
  },
  {
   "cell_type": "code",
   "execution_count": 588,
   "metadata": {},
   "outputs": [],
   "source": [
    "# добавлем ответ в список ответов\n",
    "answer_ls.append(t)"
   ]
  },
  {
   "cell_type": "markdown",
   "metadata": {},
   "source": [
    "# 9. Самый прибыльный фильм в 2008 году?\n",
    "Варианты ответов:\n",
    "1. Madagascar: Escape 2 Africa\ttt0479952\n",
    "2. Iron Man\ttt0371746\n",
    "3. Kung Fu Panda\ttt0441773\n",
    "4. The Dark Knight\ttt0468569\n",
    "5. Mamma Mia!\ttt0795421"
   ]
  },
  {
   "cell_type": "code",
   "execution_count": 589,
   "metadata": {},
   "outputs": [],
   "source": [
    "# задаем список фильмов из задания - для поиска\n",
    "film_search_list = ['Madagascar: Escape 2 Africa tt0479952',\n",
    "             'Iron Man tt0371746',\n",
    "             'Kung Fu Panda tt0441773',\n",
    "             'The Dark Knight tt0468569',\n",
    "             'Mamma Mia! tt0795421'\n",
    "            ]\n",
    "film_search_clean_list = []\n",
    "for i in film_search_list:\n",
    "    film_search_clean_list.append(clean_title(i))"
   ]
  },
  {
   "cell_type": "code",
   "execution_count": 590,
   "metadata": {},
   "outputs": [],
   "source": [
    "df_cur_films = data_with_profit[data_with_profit.original_title.isin(film_search_clean_list)]\n",
    "df_cur_films = df_cur_films[df_cur_films.release_year == 2008]\n",
    "df_cur_films = df_cur_films.sort_values('profit', ascending = False)\n",
    "df_cur_films = df_cur_films[['original_title','profit']].reset_index()\n",
    "t = str(df_cur_films.at[0,'original_title'])"
   ]
  },
  {
   "cell_type": "code",
   "execution_count": 591,
   "metadata": {},
   "outputs": [
    {
     "data": {
      "text/plain": [
       "'The Dark Knight'"
      ]
     },
     "execution_count": 591,
     "metadata": {},
     "output_type": "execute_result"
    }
   ],
   "source": [
    "# выводим ответ\n",
    "t"
   ]
  },
  {
   "cell_type": "code",
   "execution_count": 592,
   "metadata": {},
   "outputs": [],
   "source": [
    "# добавлем ответ в список ответов\n",
    "answer_ls.append(t)"
   ]
  },
  {
   "cell_type": "markdown",
   "metadata": {},
   "source": [
    "# 10. Самый убыточный фильм за период с 2012 по 2014 (включительно)?\n",
    "Варианты ответов:\n",
    "1. Winter's Tale\ttt1837709\n",
    "2. Stolen\ttt1656186\n",
    "3. Broken City\ttt1235522\n",
    "4. Upside Down\ttt1374992\n",
    "5. The Lone Ranger\ttt1210819\n"
   ]
  },
  {
   "cell_type": "code",
   "execution_count": 593,
   "metadata": {},
   "outputs": [],
   "source": [
    "# задаем список фильмов из задания - для поиска\n",
    "film_search_list = [\"Winter's Tale tt1837709\",\n",
    "             'Stolen tt1656186',\n",
    "             'Broken City tt1235522',\n",
    "             'Upside Down tt1374992',\n",
    "             'The Lone Ranger tt1210819'\n",
    "            ]\n",
    "film_search_clean_list = []\n",
    "for i in film_search_list:\n",
    "    film_search_clean_list.append(clean_title(i))"
   ]
  },
  {
   "cell_type": "code",
   "execution_count": 594,
   "metadata": {},
   "outputs": [],
   "source": [
    "years_spis = [i for i in range (2012,2015)]"
   ]
  },
  {
   "cell_type": "code",
   "execution_count": 595,
   "metadata": {},
   "outputs": [],
   "source": [
    "df_cur_films = data_with_profit[data_with_profit.original_title.isin(film_search_clean_list)]\n",
    "df_cur_films = df_cur_films[df_cur_films.release_year.isin(years_spis)]\n",
    "df_cur_films = df_cur_films.sort_values('profit', ascending = True)\n",
    "df_cur_films = df_cur_films[['original_title','profit']].reset_index()\n",
    "t = str(df_cur_films.at[0,'original_title'])"
   ]
  },
  {
   "cell_type": "code",
   "execution_count": 596,
   "metadata": {},
   "outputs": [
    {
     "data": {
      "text/plain": [
       "'The Lone Ranger'"
      ]
     },
     "execution_count": 596,
     "metadata": {},
     "output_type": "execute_result"
    }
   ],
   "source": [
    "# выводим ответ\n",
    "t"
   ]
  },
  {
   "cell_type": "code",
   "execution_count": 597,
   "metadata": {},
   "outputs": [],
   "source": [
    "# добавлем ответ в список ответов\n",
    "answer_ls.append(t)"
   ]
  },
  {
   "cell_type": "markdown",
   "metadata": {},
   "source": [
    "# 11. Какого жанра фильмов больше всего?\n",
    "Варианты ответов:\n",
    "1. Action\n",
    "2. Adventure\n",
    "3. Drama\n",
    "4. Comedy\n",
    "5. Thriller"
   ]
  },
  {
   "cell_type": "code",
   "execution_count": 598,
   "metadata": {},
   "outputs": [],
   "source": [
    "genres_list = ['Action', 'Adventure', 'Drama', 'Comedy', 'Thriller']\n",
    "genres_dict={}\n",
    "for gnr in genres_list:\n",
    "    genres_dict[gnr] = 0"
   ]
  },
  {
   "cell_type": "code",
   "execution_count": 599,
   "metadata": {},
   "outputs": [],
   "source": [
    "def convert_res (res):\n",
    "    if res == True:\n",
    "        return 1\n",
    "    else:\n",
    "        return 0"
   ]
  },
  {
   "cell_type": "code",
   "execution_count": 600,
   "metadata": {},
   "outputs": [
    {
     "data": {
      "text/plain": [
       "{'Action': 583, 'Adventure': 416, 'Drama': 782, 'Comedy': 683, 'Thriller': 597}"
      ]
     },
     "execution_count": 600,
     "metadata": {},
     "output_type": "execute_result"
    }
   ],
   "source": [
    "df_cur_films = data.copy()\n",
    "for gnr in genres_list:\n",
    "    df_cur_films[gnr]=df_cur_films.genres\n",
    "    df_cur_films[gnr] = df_cur_films[gnr].str.contains(gnr, na=False)\n",
    "    df_cur_films[gnr] = df_cur_films[gnr].apply(convert_res)\n",
    "    genres_dict[gnr] = df_cur_films[gnr].sum()\n",
    "genres_dict"
   ]
  },
  {
   "cell_type": "code",
   "execution_count": 601,
   "metadata": {},
   "outputs": [],
   "source": [
    "# вводим ответ\n",
    "t = 'Drama'"
   ]
  },
  {
   "cell_type": "code",
   "execution_count": 602,
   "metadata": {},
   "outputs": [],
   "source": [
    "# добавлем ответ в список ответов\n",
    "answer_ls.append(t)"
   ]
  },
  {
   "cell_type": "markdown",
   "metadata": {},
   "source": [
    "# 12. Какого жанра среди прибыльных фильмов больше всего?\n",
    "Варианты ответов:\n",
    "1. Drama\n",
    "2. Comedy\n",
    "3. Action\n",
    "4. Thriller\n",
    "5. Adventure"
   ]
  },
  {
   "cell_type": "code",
   "execution_count": 603,
   "metadata": {},
   "outputs": [],
   "source": [
    "genres_list = ['Drama', 'Comedy', 'Action', 'Thriller', 'Adventure']\n",
    "genres_dict={}\n",
    "for gnr in genres_list:\n",
    "    genres_dict[gnr] = 0"
   ]
  },
  {
   "cell_type": "code",
   "execution_count": 604,
   "metadata": {},
   "outputs": [],
   "source": [
    "def convert_res (res):\n",
    "    if res == True:\n",
    "        return 1\n",
    "    else:\n",
    "        return 0"
   ]
  },
  {
   "cell_type": "code",
   "execution_count": 605,
   "metadata": {},
   "outputs": [
    {
     "data": {
      "text/plain": [
       "{'Drama': 560, 'Comedy': 551, 'Action': 444, 'Thriller': 446, 'Adventure': 337}"
      ]
     },
     "execution_count": 605,
     "metadata": {},
     "output_type": "execute_result"
    }
   ],
   "source": [
    "df_cur_films = data_with_profit[data_with_profit.profit > 0].copy()\n",
    "for gnr in genres_list:\n",
    "    df_cur_films[gnr]=df_cur_films.genres\n",
    "    df_cur_films[gnr] = df_cur_films[gnr].str.contains(gnr, na=False)\n",
    "    df_cur_films[gnr] = df_cur_films[gnr].apply(convert_res)\n",
    "    genres_dict[gnr] = df_cur_films[gnr].sum()\n",
    "genres_dict"
   ]
  },
  {
   "cell_type": "code",
   "execution_count": 606,
   "metadata": {},
   "outputs": [],
   "source": [
    "# вводим ответ\n",
    "t = 'Drama'"
   ]
  },
  {
   "cell_type": "code",
   "execution_count": 607,
   "metadata": {},
   "outputs": [],
   "source": [
    "# добавлем ответ в список ответов\n",
    "answer_ls.append(t)"
   ]
  },
  {
   "cell_type": "markdown",
   "metadata": {},
   "source": [
    "# 13. Кто из режиссеров снял больше всего фильмов?\n",
    "Варианты ответов:\n",
    "1. Steven Spielberg\n",
    "2. Ridley Scott \n",
    "3. Steven Soderbergh\n",
    "4. Christopher Nolan\n",
    "5. Clint Eastwood"
   ]
  },
  {
   "cell_type": "code",
   "execution_count": 608,
   "metadata": {},
   "outputs": [],
   "source": [
    "dt_cur = pd.DataFrame(data.director.value_counts().reset_index())\n",
    "dt_cur.columns = ['director', 'num_films']"
   ]
  },
  {
   "cell_type": "code",
   "execution_count": 609,
   "metadata": {},
   "outputs": [],
   "source": [
    "dt_cur = dt_cur.sort_values('num_films', ascending = False)\n",
    "t = dt_cur.iloc[0,0]"
   ]
  },
  {
   "cell_type": "code",
   "execution_count": 610,
   "metadata": {},
   "outputs": [
    {
     "data": {
      "text/plain": [
       "'Steven Soderbergh'"
      ]
     },
     "execution_count": 610,
     "metadata": {},
     "output_type": "execute_result"
    }
   ],
   "source": [
    "# выводим ответ\n",
    "t"
   ]
  },
  {
   "cell_type": "code",
   "execution_count": 611,
   "metadata": {},
   "outputs": [],
   "source": [
    "# добавлем ответ в список ответов\n",
    "answer_ls.append(t)"
   ]
  },
  {
   "cell_type": "markdown",
   "metadata": {},
   "source": [
    "# 14. Кто из режиссеров снял больше всего Прибыльных фильмов?\n",
    "Варианты ответов:\n",
    "1. Steven Soderbergh\n",
    "2. Clint Eastwood\n",
    "3. Steven Spielberg\n",
    "4. Ridley Scott\n",
    "5. Christopher Nolan"
   ]
  },
  {
   "cell_type": "code",
   "execution_count": 612,
   "metadata": {},
   "outputs": [],
   "source": [
    "dt_cur = pd.DataFrame(data_with_profit[data_with_profit.profit > 0].director.value_counts().reset_index())\n",
    "dt_cur.columns = ['director', 'num_films']"
   ]
  },
  {
   "cell_type": "code",
   "execution_count": 613,
   "metadata": {},
   "outputs": [],
   "source": [
    "dt_cur = dt_cur.sort_values('num_films', ascending = False)\n",
    "t = dt_cur.iloc[0,0]"
   ]
  },
  {
   "cell_type": "code",
   "execution_count": 614,
   "metadata": {},
   "outputs": [
    {
     "data": {
      "text/plain": [
       "'Ridley Scott'"
      ]
     },
     "execution_count": 614,
     "metadata": {},
     "output_type": "execute_result"
    }
   ],
   "source": [
    "# выводим ответ\n",
    "t"
   ]
  },
  {
   "cell_type": "code",
   "execution_count": 615,
   "metadata": {},
   "outputs": [],
   "source": [
    "# добавлем ответ в список ответов\n",
    "answer_ls.append(t)"
   ]
  },
  {
   "cell_type": "markdown",
   "metadata": {},
   "source": [
    "# 15. Кто из режиссеров принес больше всего прибыли?\n",
    "Варианты ответов:\n",
    "1. Steven Spielberg\n",
    "2. Christopher Nolan\n",
    "3. David Yates\n",
    "4. James Cameron\n",
    "5. Peter Jackson\n"
   ]
  },
  {
   "cell_type": "code",
   "execution_count": 616,
   "metadata": {},
   "outputs": [],
   "source": [
    "dt_cur = data_with_profit.groupby('director')['profit'].sum().reset_index()\n",
    "dt_cur.columns = ['director', 'sum_profit']\n",
    "dt_cur = dt_cur.sort_values('sum_profit', ascending = False)"
   ]
  },
  {
   "cell_type": "code",
   "execution_count": 617,
   "metadata": {},
   "outputs": [],
   "source": [
    "t = dt_cur.iloc[0,0]"
   ]
  },
  {
   "cell_type": "code",
   "execution_count": 618,
   "metadata": {},
   "outputs": [
    {
     "data": {
      "text/plain": [
       "'Peter Jackson'"
      ]
     },
     "execution_count": 618,
     "metadata": {},
     "output_type": "execute_result"
    }
   ],
   "source": [
    "# выводим ответ\n",
    "t"
   ]
  },
  {
   "cell_type": "code",
   "execution_count": 619,
   "metadata": {},
   "outputs": [],
   "source": [
    "# добавлем ответ в список ответов\n",
    "answer_ls.append(t)"
   ]
  },
  {
   "cell_type": "markdown",
   "metadata": {},
   "source": [
    "# 16. Какой актер принес больше всего прибыли?\n",
    "Варианты ответов:\n",
    "1. Emma Watson\n",
    "2. Johnny Depp\n",
    "3. Michelle Rodriguez\n",
    "4. Orlando Bloom\n",
    "5. Rupert Grint"
   ]
  },
  {
   "cell_type": "code",
   "execution_count": 620,
   "metadata": {},
   "outputs": [],
   "source": [
    "actors_list = ['Emma Watson', 'Johnny Depp', 'Michelle Rodriguez', 'Orlando Bloom', 'Rupert Grint']\n",
    "actors_dict={}\n",
    "for actr in actors_list:\n",
    "    actors_dict[actr] = 0"
   ]
  },
  {
   "cell_type": "code",
   "execution_count": 621,
   "metadata": {},
   "outputs": [],
   "source": [
    "def convert_res (res):\n",
    "    if res == True:\n",
    "        return 1\n",
    "    else:\n",
    "        return 0"
   ]
  },
  {
   "cell_type": "code",
   "execution_count": 622,
   "metadata": {},
   "outputs": [
    {
     "data": {
      "text/plain": [
       "{'Emma Watson': 6666245597,\n",
       " 'Johnny Depp': 4776417000,\n",
       " 'Michelle Rodriguez': 4608031235,\n",
       " 'Orlando Bloom': 5148578162,\n",
       " 'Rupert Grint': 6408638290}"
      ]
     },
     "execution_count": 622,
     "metadata": {},
     "output_type": "execute_result"
    }
   ],
   "source": [
    "df_cur_films = data_with_profit.copy()\n",
    "for actr in actors_list:\n",
    "    df_cur_films[actr]= df_cur_films.cast\n",
    "    df_cur_films[actr] = df_cur_films[actr].str.contains(actr, na=False)\n",
    "    df_cur_films[actr] = df_cur_films[actr].apply(convert_res)*df_cur_films.profit\n",
    "    actors_dict[actr] = df_cur_films[actr].sum()\n",
    "actors_dict"
   ]
  },
  {
   "cell_type": "code",
   "execution_count": 623,
   "metadata": {},
   "outputs": [],
   "source": [
    "l = max(actors_dict.values())"
   ]
  },
  {
   "cell_type": "code",
   "execution_count": 624,
   "metadata": {},
   "outputs": [],
   "source": [
    "# вводим ответ\n",
    "t = 'Emma Watson'"
   ]
  },
  {
   "cell_type": "code",
   "execution_count": 625,
   "metadata": {},
   "outputs": [],
   "source": [
    "# добавлем ответ в список ответов\n",
    "answer_ls.append(t)"
   ]
  },
  {
   "cell_type": "markdown",
   "metadata": {},
   "source": [
    "# 17. Какой актер принес меньше всего прибыли в 2012 году?\n",
    "Варианты ответов:\n",
    "1. Nicolas Cage\n",
    "2. Danny Huston\n",
    "3. Kirsten Dunst\n",
    "4. Jim Sturgess\n",
    "5. Sami Gayle"
   ]
  },
  {
   "cell_type": "code",
   "execution_count": 626,
   "metadata": {},
   "outputs": [],
   "source": [
    "actors_list = ['Nicolas Cage', 'Danny Huston', 'Kirsten Dunst', 'Jim Sturgess', 'Sami Gayle']\n",
    "actors_dict={}\n",
    "for actr in actors_list:\n",
    "    actors_dict[actr] = 0"
   ]
  },
  {
   "cell_type": "code",
   "execution_count": 627,
   "metadata": {},
   "outputs": [],
   "source": [
    "def convert_res (res):\n",
    "    if res == True:\n",
    "        return 1\n",
    "    else:\n",
    "        return 0"
   ]
  },
  {
   "cell_type": "code",
   "execution_count": 628,
   "metadata": {},
   "outputs": [
    {
     "data": {
      "text/plain": [
       "{'Nicolas Cage': 1598427930,\n",
       " 'Danny Huston': -50921934,\n",
       " 'Kirsten Dunst': 1972542719,\n",
       " 'Jim Sturgess': 51906097,\n",
       " 'Sami Gayle': -32893443}"
      ]
     },
     "execution_count": 628,
     "metadata": {},
     "output_type": "execute_result"
    }
   ],
   "source": [
    "df_cur_films = data_with_profit.copy()\n",
    "for actr in actors_list:\n",
    "    df_cur_films[actr]= df_cur_films.cast\n",
    "    df_cur_films[actr] = df_cur_films[actr].str.contains(actr, na=False)\n",
    "    df_cur_films[actr] = df_cur_films[actr].apply(convert_res)*df_cur_films.profit\n",
    "    actors_dict[actr] = df_cur_films[actr].sum()\n",
    "actors_dict"
   ]
  },
  {
   "cell_type": "code",
   "execution_count": 629,
   "metadata": {},
   "outputs": [
    {
     "data": {
      "text/plain": [
       "-50921934"
      ]
     },
     "execution_count": 629,
     "metadata": {},
     "output_type": "execute_result"
    }
   ],
   "source": [
    "l = min(actors_dict.values())\n",
    "l"
   ]
  },
  {
   "cell_type": "code",
   "execution_count": 630,
   "metadata": {},
   "outputs": [],
   "source": [
    "# вводим ответ\n",
    "t = 'Danny Huston'"
   ]
  },
  {
   "cell_type": "code",
   "execution_count": 631,
   "metadata": {},
   "outputs": [],
   "source": [
    "# добавлем ответ в список ответов\n",
    "answer_ls.append(t)"
   ]
  },
  {
   "cell_type": "markdown",
   "metadata": {},
   "source": [
    "# 18. Какой актер снялся в большем количестве высокобюджетных фильмов? (в фильмах где бюджет выше среднего по данной выборке)\n",
    "Варианты ответов:\n",
    "1. Tom Cruise\n",
    "2. Mark Wahlberg \n",
    "3. Matt Damon\n",
    "4. Angelina Jolie\n",
    "5. Adam Sandler"
   ]
  },
  {
   "cell_type": "code",
   "execution_count": 632,
   "metadata": {},
   "outputs": [],
   "source": [
    "actors_list = ['Tom Cruise', 'Mark Wahlberg', 'Matt Damon', 'Angelina Jolie', 'Adam Sandler']\n",
    "actors_dict={}\n",
    "for actr in actors_list:\n",
    "    actors_dict[actr] = 0"
   ]
  },
  {
   "cell_type": "code",
   "execution_count": 633,
   "metadata": {},
   "outputs": [],
   "source": [
    "def convert_res (res):\n",
    "    if res == True:\n",
    "        return 1\n",
    "    else:\n",
    "        return 0"
   ]
  },
  {
   "cell_type": "code",
   "execution_count": 634,
   "metadata": {},
   "outputs": [
    {
     "data": {
      "text/plain": [
       "{'Tom Cruise': 15,\n",
       " 'Mark Wahlberg': 14,\n",
       " 'Matt Damon': 18,\n",
       " 'Angelina Jolie': 16,\n",
       " 'Adam Sandler': 17}"
      ]
     },
     "execution_count": 634,
     "metadata": {},
     "output_type": "execute_result"
    }
   ],
   "source": [
    "df_cur_films = data_with_profit[data_with_profit.budget > data_with_profit.budget.mean()].copy()\n",
    "for actr in actors_list:\n",
    "    df_cur_films[actr]= df_cur_films.cast\n",
    "    df_cur_films[actr] = df_cur_films[actr].str.contains(actr, na=False)\n",
    "    df_cur_films[actr] = df_cur_films[actr].apply(convert_res)\n",
    "    actors_dict[actr] = df_cur_films[actr].sum()\n",
    "actors_dict"
   ]
  },
  {
   "cell_type": "code",
   "execution_count": 635,
   "metadata": {},
   "outputs": [],
   "source": [
    "# вводим ответ\n",
    "t = 'Matt Damon'"
   ]
  },
  {
   "cell_type": "code",
   "execution_count": 636,
   "metadata": {},
   "outputs": [],
   "source": [
    "# добавлем ответ в список ответов\n",
    "answer_ls.append(t)"
   ]
  },
  {
   "cell_type": "markdown",
   "metadata": {},
   "source": [
    "# 19. В фильмах какого жанра больше всего снимался Nicolas Cage?  \n",
    "Варианты ответа:\n",
    "1. Drama\n",
    "2. Action\n",
    "3. Thriller\n",
    "4. Adventure\n",
    "5. Crime"
   ]
  },
  {
   "cell_type": "code",
   "execution_count": 637,
   "metadata": {},
   "outputs": [],
   "source": [
    "genres_list = ['Drama', 'Action', 'Thriller', 'Adventure', 'Crime']\n",
    "genres_dict={}\n",
    "for gnr in genres_list:\n",
    "    genres_dict[gnr] = 0"
   ]
  },
  {
   "cell_type": "code",
   "execution_count": 638,
   "metadata": {},
   "outputs": [],
   "source": [
    "actor_name = 'Nicolas Cage'"
   ]
  },
  {
   "cell_type": "code",
   "execution_count": 639,
   "metadata": {},
   "outputs": [],
   "source": [
    "def convert_res (res):\n",
    "    if res == True:\n",
    "        return 1\n",
    "    else:\n",
    "        return 0"
   ]
  },
  {
   "cell_type": "code",
   "execution_count": 640,
   "metadata": {},
   "outputs": [
    {
     "data": {
      "text/plain": [
       "{'Drama': 12, 'Action': 17, 'Thriller': 15, 'Adventure': 7, 'Crime': 10}"
      ]
     },
     "execution_count": 640,
     "metadata": {},
     "output_type": "execute_result"
    }
   ],
   "source": [
    "df_cur_films = data_with_profit[data_with_profit.cast.str.contains(actor_name, na=False)].copy()\n",
    "for gnr in genres_list:\n",
    "    df_cur_films[gnr]=df_cur_films.genres + df_cur_films.cast\n",
    "    df_cur_films[gnr] = df_cur_films[gnr].str.contains(gnr, na=False)\n",
    "    df_cur_films[gnr] = df_cur_films[gnr].apply(convert_res)\n",
    "    genres_dict[gnr] = df_cur_films[gnr].sum()\n",
    "genres_dict"
   ]
  },
  {
   "cell_type": "code",
   "execution_count": 641,
   "metadata": {},
   "outputs": [],
   "source": [
    "# вводим ответ\n",
    "t = 'Action'"
   ]
  },
  {
   "cell_type": "code",
   "execution_count": 642,
   "metadata": {},
   "outputs": [],
   "source": [
    "# добавлем ответ в список ответов\n",
    "answer_ls.append(t)"
   ]
  },
  {
   "cell_type": "markdown",
   "metadata": {},
   "source": [
    "# 20. Какая студия сняла больше всего фильмов?\n",
    "Варианты ответа:\n",
    "1. Universal Pictures (Universal)\n",
    "2. Paramount Pictures\n",
    "3. Columbia Pictures\n",
    "4. Warner Bros\n",
    "5. Twentieth Century Fox Film Corporation"
   ]
  },
  {
   "cell_type": "code",
   "execution_count": 643,
   "metadata": {},
   "outputs": [],
   "source": [
    "studio_list = ['Universal Pictures',\n",
    "               'Paramount Pictures',\n",
    "               'Columbia Pictures',\n",
    "               'Warner Bros',\n",
    "               'Twentieth Century Fox Film Corporation'\n",
    "              ]\n",
    "studio_dict={}\n",
    "for st in studio_list:\n",
    "    studio_dict[st] = 0"
   ]
  },
  {
   "cell_type": "code",
   "execution_count": 644,
   "metadata": {},
   "outputs": [],
   "source": [
    "def convert_res (res):\n",
    "    if res == True:\n",
    "        return 1\n",
    "    else:\n",
    "        return 0"
   ]
  },
  {
   "cell_type": "code",
   "execution_count": 645,
   "metadata": {},
   "outputs": [
    {
     "data": {
      "text/plain": [
       "{'Universal Pictures': 175,\n",
       " 'Paramount Pictures': 122,\n",
       " 'Columbia Pictures': 163,\n",
       " 'Warner Bros': 183,\n",
       " 'Twentieth Century Fox Film Corporation': 109}"
      ]
     },
     "execution_count": 645,
     "metadata": {},
     "output_type": "execute_result"
    }
   ],
   "source": [
    "df_cur_films = data_with_profit.copy()\n",
    "for st in studio_list:\n",
    "    df_cur_films[st] = df_cur_films['production_companies'].str.contains(st, na=False)\n",
    "    df_cur_films[st] = df_cur_films[st].apply(convert_res)\n",
    "    studio_dict[st] = df_cur_films[st].sum()\n",
    "studio_dict"
   ]
  },
  {
   "cell_type": "code",
   "execution_count": 646,
   "metadata": {},
   "outputs": [],
   "source": [
    "# вводим ответ\n",
    "t = 'Warner Bros'"
   ]
  },
  {
   "cell_type": "code",
   "execution_count": 647,
   "metadata": {},
   "outputs": [],
   "source": [
    "# добавлем ответ в список ответов\n",
    "answer_ls.append(t)"
   ]
  },
  {
   "cell_type": "markdown",
   "metadata": {},
   "source": [
    "# 21. Какая студия сняла больше всего фильмов в 2015 году?\n",
    "Варианты ответа:\n",
    "1. Universal Pictures\n",
    "2. Paramount Pictures\n",
    "3. Columbia Pictures\n",
    "4. Warner Bros\n",
    "5. Twentieth Century Fox Film Corporation"
   ]
  },
  {
   "cell_type": "code",
   "execution_count": 648,
   "metadata": {},
   "outputs": [],
   "source": [
    "studio_list = ['Universal Pictures',\n",
    "               'Paramount Pictures',\n",
    "               'Columbia Pictures',\n",
    "               'Warner Bros',\n",
    "               'Twentieth Century Fox Film Corporation'\n",
    "              ]\n",
    "studio_dict={}\n",
    "for st in studio_list:\n",
    "    studio_dict[st] = 0"
   ]
  },
  {
   "cell_type": "code",
   "execution_count": 649,
   "metadata": {},
   "outputs": [],
   "source": [
    "def convert_res (res):\n",
    "    if res == True:\n",
    "        return 1\n",
    "    else:\n",
    "        return 0"
   ]
  },
  {
   "cell_type": "code",
   "execution_count": 650,
   "metadata": {},
   "outputs": [
    {
     "data": {
      "text/plain": [
       "{'Universal Pictures': 11,\n",
       " 'Paramount Pictures': 7,\n",
       " 'Columbia Pictures': 7,\n",
       " 'Warner Bros': 12,\n",
       " 'Twentieth Century Fox Film Corporation': 8}"
      ]
     },
     "execution_count": 650,
     "metadata": {},
     "output_type": "execute_result"
    }
   ],
   "source": [
    "df_cur_films = data_with_profit[data_with_profit.release_year == 2015].copy()\n",
    "for st in studio_list:\n",
    "    df_cur_films[st] = df_cur_films['production_companies'].str.contains(st, na=False)\n",
    "    df_cur_films[st] = df_cur_films[st].apply(convert_res)\n",
    "    studio_dict[st] = df_cur_films[st].sum()\n",
    "studio_dict"
   ]
  },
  {
   "cell_type": "code",
   "execution_count": 651,
   "metadata": {},
   "outputs": [],
   "source": [
    "# вводим ответ\n",
    "t = 'Warner Bros'"
   ]
  },
  {
   "cell_type": "code",
   "execution_count": 652,
   "metadata": {},
   "outputs": [],
   "source": [
    "# добавлем ответ в список ответов\n",
    "answer_ls.append(t)"
   ]
  },
  {
   "cell_type": "markdown",
   "metadata": {},
   "source": [
    "# 22. Какая студия заработала больше всего денег в жанре комедий за все время?\n",
    "Варианты ответа:\n",
    "1. Warner Bros\n",
    "2. Universal Pictures (Universal)\n",
    "3. Columbia Pictures\n",
    "4. Paramount Pictures\n",
    "5. Walt Disney"
   ]
  },
  {
   "cell_type": "code",
   "execution_count": 653,
   "metadata": {},
   "outputs": [],
   "source": [
    "studio_list = ['Warner Bros',\n",
    "               'Universal Pictures',\n",
    "               'Columbia Pictures',\n",
    "               'Paramount Pictures',\n",
    "               'Walt Disney'\n",
    "              ]\n",
    "studio_dict={}\n",
    "for st in studio_list:\n",
    "    studio_dict[st] = 0"
   ]
  },
  {
   "cell_type": "code",
   "execution_count": 654,
   "metadata": {},
   "outputs": [],
   "source": [
    "def convert_res (res):\n",
    "    if res == True:\n",
    "        return 1\n",
    "    else:\n",
    "        return 0"
   ]
  },
  {
   "cell_type": "code",
   "execution_count": 655,
   "metadata": {},
   "outputs": [],
   "source": [
    "df_cur_films = data_with_profit[data_with_profit['genres'].str.contains('Comedy', na=False)].copy()"
   ]
  },
  {
   "cell_type": "code",
   "execution_count": 656,
   "metadata": {},
   "outputs": [
    {
     "data": {
      "text/plain": [
       "{'Warner Bros': 4370928916,\n",
       " 'Universal Pictures': 8952422726,\n",
       " 'Columbia Pictures': 7161805266,\n",
       " 'Paramount Pictures': 3055625722,\n",
       " 'Walt Disney': 7975933215}"
      ]
     },
     "execution_count": 656,
     "metadata": {},
     "output_type": "execute_result"
    }
   ],
   "source": [
    "for st in studio_list:\n",
    "    df_cur_films[st] = df_cur_films['production_companies'].str.contains(st, na=False)\n",
    "    df_cur_films[st] = df_cur_films[st].apply(convert_res) * df_cur_films.profit\n",
    "    studio_dict[st] = df_cur_films[st].sum()\n",
    "studio_dict"
   ]
  },
  {
   "cell_type": "code",
   "execution_count": 657,
   "metadata": {},
   "outputs": [],
   "source": [
    "# вводим ответ\n",
    "t = 'Universal Pictures'"
   ]
  },
  {
   "cell_type": "code",
   "execution_count": 658,
   "metadata": {},
   "outputs": [],
   "source": [
    "# добавлем ответ в список ответов\n",
    "answer_ls.append(t)"
   ]
  },
  {
   "cell_type": "markdown",
   "metadata": {},
   "source": [
    "# 23. Какая студия заработала больше всего денег в 2012 году?\n",
    "Варианты ответа:\n",
    "1. Universal Pictures (Universal)\n",
    "2. Warner Bros\n",
    "3. Columbia Pictures\n",
    "4. Paramount Pictures\n",
    "5. Lucasfilm"
   ]
  },
  {
   "cell_type": "code",
   "execution_count": 659,
   "metadata": {},
   "outputs": [],
   "source": [
    "studio_list = ['Universal Pictures',\n",
    "               'Warner Bros',\n",
    "               'Columbia Pictures',\n",
    "               'Paramount Pictures',\n",
    "               'Lucasfilm'\n",
    "              ]\n",
    "studio_dict={}\n",
    "for st in studio_list:\n",
    "    studio_dict[st] = 0"
   ]
  },
  {
   "cell_type": "code",
   "execution_count": 660,
   "metadata": {},
   "outputs": [],
   "source": [
    "def convert_res (res):\n",
    "    if res == True:\n",
    "        return 1\n",
    "    else:\n",
    "        return 0"
   ]
  },
  {
   "cell_type": "code",
   "execution_count": 661,
   "metadata": {},
   "outputs": [],
   "source": [
    "df_cur_films = data_with_profit[data_with_profit.release_year == 2012].copy()"
   ]
  },
  {
   "cell_type": "code",
   "execution_count": 662,
   "metadata": {},
   "outputs": [
    {
     "data": {
      "text/plain": [
       "{'Universal Pictures': 1981011579,\n",
       " 'Warner Bros': 1258020056,\n",
       " 'Columbia Pictures': 2501406608,\n",
       " 'Paramount Pictures': 410726715,\n",
       " 'Lucasfilm': -7634623}"
      ]
     },
     "execution_count": 662,
     "metadata": {},
     "output_type": "execute_result"
    }
   ],
   "source": [
    "for st in studio_list:\n",
    "    df_cur_films[st] = df_cur_films['production_companies'].str.contains(st, na=False)\n",
    "    df_cur_films[st] = df_cur_films[st].apply(convert_res) * df_cur_films.profit\n",
    "    studio_dict[st] = df_cur_films[st].sum()\n",
    "studio_dict"
   ]
  },
  {
   "cell_type": "code",
   "execution_count": 663,
   "metadata": {},
   "outputs": [],
   "source": [
    "# вводим ответ\n",
    "t = 'Columbia Pictures'"
   ]
  },
  {
   "cell_type": "code",
   "execution_count": 664,
   "metadata": {},
   "outputs": [],
   "source": [
    "# добавлем ответ в список ответов\n",
    "answer_ls.append(t)"
   ]
  },
  {
   "cell_type": "markdown",
   "metadata": {},
   "source": [
    "# 24. Самый убыточный фильм от Paramount Pictures\n",
    "Варианты ответа:\n",
    "\n",
    "1. K-19: The Widowmaker tt0267626\n",
    "2. Next tt0435705\n",
    "3. Twisted tt0315297\n",
    "4. The Love Guru tt0811138\n",
    "5. The Fighter tt0964517"
   ]
  },
  {
   "cell_type": "code",
   "execution_count": 665,
   "metadata": {},
   "outputs": [],
   "source": [
    "df_cur_films = data_with_profit[data_with_profit['production_companies'].str.contains('Paramount Pictures', na=False)].copy()"
   ]
  },
  {
   "cell_type": "code",
   "execution_count": 666,
   "metadata": {},
   "outputs": [],
   "source": [
    "df_cur_films = df_cur_films.sort_values('profit', ascending = True)"
   ]
  },
  {
   "cell_type": "code",
   "execution_count": 667,
   "metadata": {},
   "outputs": [
    {
     "data": {
      "text/html": [
       "<div>\n",
       "<style scoped>\n",
       "    .dataframe tbody tr th:only-of-type {\n",
       "        vertical-align: middle;\n",
       "    }\n",
       "\n",
       "    .dataframe tbody tr th {\n",
       "        vertical-align: top;\n",
       "    }\n",
       "\n",
       "    .dataframe thead th {\n",
       "        text-align: right;\n",
       "    }\n",
       "</style>\n",
       "<table border=\"1\" class=\"dataframe\">\n",
       "  <thead>\n",
       "    <tr style=\"text-align: right;\">\n",
       "      <th></th>\n",
       "      <th>imdb_id</th>\n",
       "      <th>popularity</th>\n",
       "      <th>budget</th>\n",
       "      <th>revenue</th>\n",
       "      <th>original_title</th>\n",
       "      <th>cast</th>\n",
       "      <th>director</th>\n",
       "      <th>tagline</th>\n",
       "      <th>overview</th>\n",
       "      <th>runtime</th>\n",
       "      <th>genres</th>\n",
       "      <th>production_companies</th>\n",
       "      <th>release_date</th>\n",
       "      <th>vote_count</th>\n",
       "      <th>vote_average</th>\n",
       "      <th>release_year</th>\n",
       "      <th>profit</th>\n",
       "    </tr>\n",
       "  </thead>\n",
       "  <tbody>\n",
       "    <tr>\n",
       "      <td>926</td>\n",
       "      <td>tt0267626</td>\n",
       "      <td>0.722330</td>\n",
       "      <td>100000000</td>\n",
       "      <td>35168966</td>\n",
       "      <td>K-19: The Widowmaker</td>\n",
       "      <td>Harrison Ford|Liam Neeson|Peter Sarsgaard|Joss...</td>\n",
       "      <td>Kathryn Bigelow</td>\n",
       "      <td>Fate has found its hero.</td>\n",
       "      <td>When Russia's first nuclear submarine malfunct...</td>\n",
       "      <td>138</td>\n",
       "      <td>Thriller|Drama|History</td>\n",
       "      <td>Paramount Pictures|Intermedia Films|National G...</td>\n",
       "      <td>7/19/2002</td>\n",
       "      <td>146</td>\n",
       "      <td>6.0</td>\n",
       "      <td>2002</td>\n",
       "      <td>-64831034</td>\n",
       "    </tr>\n",
       "    <tr>\n",
       "      <td>1124</td>\n",
       "      <td>tt0300556</td>\n",
       "      <td>1.047214</td>\n",
       "      <td>80000000</td>\n",
       "      <td>19480739</td>\n",
       "      <td>Timeline</td>\n",
       "      <td>Paul Walker|Frances O'Connor|Gerard Butler|Bil...</td>\n",
       "      <td>Richard Donner</td>\n",
       "      <td>They had to travel into the past to save the f...</td>\n",
       "      <td>A group of archaeological students become trap...</td>\n",
       "      <td>116</td>\n",
       "      <td>Action|Adventure|Science Fiction</td>\n",
       "      <td>Paramount Pictures|Donners' Company|Mutual Fil...</td>\n",
       "      <td>11/26/2003</td>\n",
       "      <td>176</td>\n",
       "      <td>5.1</td>\n",
       "      <td>2003</td>\n",
       "      <td>-60519261</td>\n",
       "    </tr>\n",
       "    <tr>\n",
       "      <td>1723</td>\n",
       "      <td>tt0435705</td>\n",
       "      <td>1.068126</td>\n",
       "      <td>70000000</td>\n",
       "      <td>18211013</td>\n",
       "      <td>Next</td>\n",
       "      <td>Nicolas Cage|Julianne Moore|Jessica Biel|Thoma...</td>\n",
       "      <td>Lee Tamahori</td>\n",
       "      <td>If you can see the future, you can save it.</td>\n",
       "      <td>Las Vegas showroom magician Cris Johnson has a...</td>\n",
       "      <td>96</td>\n",
       "      <td>Action|Science Fiction|Thriller</td>\n",
       "      <td>Paramount Pictures|Virtual Studios|Revolution ...</td>\n",
       "      <td>4/24/2007</td>\n",
       "      <td>499</td>\n",
       "      <td>5.9</td>\n",
       "      <td>2007</td>\n",
       "      <td>-51788987</td>\n",
       "    </tr>\n",
       "  </tbody>\n",
       "</table>\n",
       "</div>"
      ],
      "text/plain": [
       "        imdb_id  popularity     budget   revenue        original_title  \\\n",
       "926   tt0267626    0.722330  100000000  35168966  K-19: The Widowmaker   \n",
       "1124  tt0300556    1.047214   80000000  19480739              Timeline   \n",
       "1723  tt0435705    1.068126   70000000  18211013                  Next   \n",
       "\n",
       "                                                   cast         director  \\\n",
       "926   Harrison Ford|Liam Neeson|Peter Sarsgaard|Joss...  Kathryn Bigelow   \n",
       "1124  Paul Walker|Frances O'Connor|Gerard Butler|Bil...   Richard Donner   \n",
       "1723  Nicolas Cage|Julianne Moore|Jessica Biel|Thoma...     Lee Tamahori   \n",
       "\n",
       "                                                tagline  \\\n",
       "926                            Fate has found its hero.   \n",
       "1124  They had to travel into the past to save the f...   \n",
       "1723        If you can see the future, you can save it.   \n",
       "\n",
       "                                               overview  runtime  \\\n",
       "926   When Russia's first nuclear submarine malfunct...      138   \n",
       "1124  A group of archaeological students become trap...      116   \n",
       "1723  Las Vegas showroom magician Cris Johnson has a...       96   \n",
       "\n",
       "                                genres  \\\n",
       "926             Thriller|Drama|History   \n",
       "1124  Action|Adventure|Science Fiction   \n",
       "1723   Action|Science Fiction|Thriller   \n",
       "\n",
       "                                   production_companies release_date  \\\n",
       "926   Paramount Pictures|Intermedia Films|National G...    7/19/2002   \n",
       "1124  Paramount Pictures|Donners' Company|Mutual Fil...   11/26/2003   \n",
       "1723  Paramount Pictures|Virtual Studios|Revolution ...    4/24/2007   \n",
       "\n",
       "      vote_count  vote_average  release_year    profit  \n",
       "926          146           6.0          2002 -64831034  \n",
       "1124         176           5.1          2003 -60519261  \n",
       "1723         499           5.9          2007 -51788987  "
      ]
     },
     "execution_count": 667,
     "metadata": {},
     "output_type": "execute_result"
    }
   ],
   "source": [
    "df_cur_films.head(3)"
   ]
  },
  {
   "cell_type": "code",
   "execution_count": 668,
   "metadata": {},
   "outputs": [],
   "source": [
    "# вводим ответ\n",
    "t = 'K-19: The Widowmaker'"
   ]
  },
  {
   "cell_type": "code",
   "execution_count": 669,
   "metadata": {},
   "outputs": [],
   "source": [
    "# добавлем ответ в список ответов\n",
    "answer_ls.append(t)"
   ]
  },
  {
   "cell_type": "markdown",
   "metadata": {},
   "source": [
    "# 25. Какой Самый прибыльный год (заработали больше всего)?\n",
    "Варианты ответа:\n",
    "1. 2014\n",
    "2. 2008\n",
    "3. 2012\n",
    "4. 2002\n",
    "5. 2015"
   ]
  },
  {
   "cell_type": "code",
   "execution_count": 670,
   "metadata": {},
   "outputs": [],
   "source": [
    "df_cur_films = data_with_profit.groupby('release_year')['profit'].sum().reset_index()\n",
    "df_cur_films.columns = ['release_year', 'sum_profit']"
   ]
  },
  {
   "cell_type": "code",
   "execution_count": 671,
   "metadata": {},
   "outputs": [
    {
     "data": {
      "text/html": [
       "<div>\n",
       "<style scoped>\n",
       "    .dataframe tbody tr th:only-of-type {\n",
       "        vertical-align: middle;\n",
       "    }\n",
       "\n",
       "    .dataframe tbody tr th {\n",
       "        vertical-align: top;\n",
       "    }\n",
       "\n",
       "    .dataframe thead th {\n",
       "        text-align: right;\n",
       "    }\n",
       "</style>\n",
       "<table border=\"1\" class=\"dataframe\">\n",
       "  <thead>\n",
       "    <tr style=\"text-align: right;\">\n",
       "      <th></th>\n",
       "      <th>release_year</th>\n",
       "      <th>sum_profit</th>\n",
       "    </tr>\n",
       "  </thead>\n",
       "  <tbody>\n",
       "    <tr>\n",
       "      <td>15</td>\n",
       "      <td>2015</td>\n",
       "      <td>18668572378</td>\n",
       "    </tr>\n",
       "    <tr>\n",
       "      <td>14</td>\n",
       "      <td>2014</td>\n",
       "      <td>16397812953</td>\n",
       "    </tr>\n",
       "    <tr>\n",
       "      <td>12</td>\n",
       "      <td>2012</td>\n",
       "      <td>16077001687</td>\n",
       "    </tr>\n",
       "    <tr>\n",
       "      <td>13</td>\n",
       "      <td>2013</td>\n",
       "      <td>15243179791</td>\n",
       "    </tr>\n",
       "    <tr>\n",
       "      <td>11</td>\n",
       "      <td>2011</td>\n",
       "      <td>14730241341</td>\n",
       "    </tr>\n",
       "    <tr>\n",
       "      <td>9</td>\n",
       "      <td>2009</td>\n",
       "      <td>13423744372</td>\n",
       "    </tr>\n",
       "    <tr>\n",
       "      <td>10</td>\n",
       "      <td>2010</td>\n",
       "      <td>13117292530</td>\n",
       "    </tr>\n",
       "    <tr>\n",
       "      <td>8</td>\n",
       "      <td>2008</td>\n",
       "      <td>11663881990</td>\n",
       "    </tr>\n",
       "    <tr>\n",
       "      <td>7</td>\n",
       "      <td>2007</td>\n",
       "      <td>11565911801</td>\n",
       "    </tr>\n",
       "    <tr>\n",
       "      <td>4</td>\n",
       "      <td>2004</td>\n",
       "      <td>9634180720</td>\n",
       "    </tr>\n",
       "    <tr>\n",
       "      <td>3</td>\n",
       "      <td>2003</td>\n",
       "      <td>9228823312</td>\n",
       "    </tr>\n",
       "    <tr>\n",
       "      <td>2</td>\n",
       "      <td>2002</td>\n",
       "      <td>9002361487</td>\n",
       "    </tr>\n",
       "    <tr>\n",
       "      <td>5</td>\n",
       "      <td>2005</td>\n",
       "      <td>8981925558</td>\n",
       "    </tr>\n",
       "    <tr>\n",
       "      <td>6</td>\n",
       "      <td>2006</td>\n",
       "      <td>8691077320</td>\n",
       "    </tr>\n",
       "    <tr>\n",
       "      <td>1</td>\n",
       "      <td>2001</td>\n",
       "      <td>7950614865</td>\n",
       "    </tr>\n",
       "    <tr>\n",
       "      <td>0</td>\n",
       "      <td>2000</td>\n",
       "      <td>6101399805</td>\n",
       "    </tr>\n",
       "  </tbody>\n",
       "</table>\n",
       "</div>"
      ],
      "text/plain": [
       "    release_year   sum_profit\n",
       "15          2015  18668572378\n",
       "14          2014  16397812953\n",
       "12          2012  16077001687\n",
       "13          2013  15243179791\n",
       "11          2011  14730241341\n",
       "9           2009  13423744372\n",
       "10          2010  13117292530\n",
       "8           2008  11663881990\n",
       "7           2007  11565911801\n",
       "4           2004   9634180720\n",
       "3           2003   9228823312\n",
       "2           2002   9002361487\n",
       "5           2005   8981925558\n",
       "6           2006   8691077320\n",
       "1           2001   7950614865\n",
       "0           2000   6101399805"
      ]
     },
     "execution_count": 671,
     "metadata": {},
     "output_type": "execute_result"
    }
   ],
   "source": [
    "df_cur_films.sort_values('sum_profit', ascending = False)"
   ]
  },
  {
   "cell_type": "code",
   "execution_count": 672,
   "metadata": {},
   "outputs": [],
   "source": [
    "# вводим ответ\n",
    "t = 2015"
   ]
  },
  {
   "cell_type": "code",
   "execution_count": 673,
   "metadata": {},
   "outputs": [],
   "source": [
    "# добавлем ответ в список ответов\n",
    "answer_ls.append(t)"
   ]
  },
  {
   "cell_type": "markdown",
   "metadata": {},
   "source": [
    "# 26. Какой Самый прибыльный год для студии Warner Bros?\n",
    "Варианты ответа:\n",
    "1. 2014\n",
    "2. 2008\n",
    "3. 2012\n",
    "4. 2010\n",
    "5. 2015"
   ]
  },
  {
   "cell_type": "code",
   "execution_count": 674,
   "metadata": {},
   "outputs": [],
   "source": [
    "df_cur_films = data_with_profit[data_with_profit['production_companies'].str.contains('Warner Bros', na=False)].copy()\n",
    "df_cur_films = df_cur_films.groupby('release_year')['profit'].sum().reset_index()\n",
    "df_cur_films.columns = ['release_year', 'sum_profit']"
   ]
  },
  {
   "cell_type": "code",
   "execution_count": 675,
   "metadata": {},
   "outputs": [
    {
     "data": {
      "text/html": [
       "<div>\n",
       "<style scoped>\n",
       "    .dataframe tbody tr th:only-of-type {\n",
       "        vertical-align: middle;\n",
       "    }\n",
       "\n",
       "    .dataframe tbody tr th {\n",
       "        vertical-align: top;\n",
       "    }\n",
       "\n",
       "    .dataframe thead th {\n",
       "        text-align: right;\n",
       "    }\n",
       "</style>\n",
       "<table border=\"1\" class=\"dataframe\">\n",
       "  <thead>\n",
       "    <tr style=\"text-align: right;\">\n",
       "      <th></th>\n",
       "      <th>release_year</th>\n",
       "      <th>sum_profit</th>\n",
       "    </tr>\n",
       "  </thead>\n",
       "  <tbody>\n",
       "    <tr>\n",
       "      <td>14</td>\n",
       "      <td>2014</td>\n",
       "      <td>2295464519</td>\n",
       "    </tr>\n",
       "    <tr>\n",
       "      <td>7</td>\n",
       "      <td>2007</td>\n",
       "      <td>2201675217</td>\n",
       "    </tr>\n",
       "    <tr>\n",
       "      <td>8</td>\n",
       "      <td>2008</td>\n",
       "      <td>2134595031</td>\n",
       "    </tr>\n",
       "    <tr>\n",
       "      <td>10</td>\n",
       "      <td>2010</td>\n",
       "      <td>1974712985</td>\n",
       "    </tr>\n",
       "    <tr>\n",
       "      <td>11</td>\n",
       "      <td>2011</td>\n",
       "      <td>1871393682</td>\n",
       "    </tr>\n",
       "    <tr>\n",
       "      <td>3</td>\n",
       "      <td>2003</td>\n",
       "      <td>1855493377</td>\n",
       "    </tr>\n",
       "    <tr>\n",
       "      <td>9</td>\n",
       "      <td>2009</td>\n",
       "      <td>1822454136</td>\n",
       "    </tr>\n",
       "    <tr>\n",
       "      <td>13</td>\n",
       "      <td>2013</td>\n",
       "      <td>1636453400</td>\n",
       "    </tr>\n",
       "    <tr>\n",
       "      <td>4</td>\n",
       "      <td>2004</td>\n",
       "      <td>1631933725</td>\n",
       "    </tr>\n",
       "    <tr>\n",
       "      <td>5</td>\n",
       "      <td>2005</td>\n",
       "      <td>1551980298</td>\n",
       "    </tr>\n",
       "    <tr>\n",
       "      <td>1</td>\n",
       "      <td>2001</td>\n",
       "      <td>1343545668</td>\n",
       "    </tr>\n",
       "    <tr>\n",
       "      <td>12</td>\n",
       "      <td>2012</td>\n",
       "      <td>1258020056</td>\n",
       "    </tr>\n",
       "    <tr>\n",
       "      <td>2</td>\n",
       "      <td>2002</td>\n",
       "      <td>1022709901</td>\n",
       "    </tr>\n",
       "    <tr>\n",
       "      <td>15</td>\n",
       "      <td>2015</td>\n",
       "      <td>870368348</td>\n",
       "    </tr>\n",
       "    <tr>\n",
       "      <td>6</td>\n",
       "      <td>2006</td>\n",
       "      <td>620170743</td>\n",
       "    </tr>\n",
       "    <tr>\n",
       "      <td>0</td>\n",
       "      <td>2000</td>\n",
       "      <td>452631386</td>\n",
       "    </tr>\n",
       "  </tbody>\n",
       "</table>\n",
       "</div>"
      ],
      "text/plain": [
       "    release_year  sum_profit\n",
       "14          2014  2295464519\n",
       "7           2007  2201675217\n",
       "8           2008  2134595031\n",
       "10          2010  1974712985\n",
       "11          2011  1871393682\n",
       "3           2003  1855493377\n",
       "9           2009  1822454136\n",
       "13          2013  1636453400\n",
       "4           2004  1631933725\n",
       "5           2005  1551980298\n",
       "1           2001  1343545668\n",
       "12          2012  1258020056\n",
       "2           2002  1022709901\n",
       "15          2015   870368348\n",
       "6           2006   620170743\n",
       "0           2000   452631386"
      ]
     },
     "execution_count": 675,
     "metadata": {},
     "output_type": "execute_result"
    }
   ],
   "source": [
    "df_cur_films.sort_values('sum_profit', ascending = False)"
   ]
  },
  {
   "cell_type": "code",
   "execution_count": 676,
   "metadata": {},
   "outputs": [],
   "source": [
    "# вводим ответ\n",
    "t = 2014"
   ]
  },
  {
   "cell_type": "code",
   "execution_count": 677,
   "metadata": {},
   "outputs": [],
   "source": [
    "# добавлем ответ в список ответов\n",
    "answer_ls.append(t)"
   ]
  },
  {
   "cell_type": "markdown",
   "metadata": {},
   "source": [
    "# 27. В каком месяце за все годы суммарно вышло больше всего фильмов?\n",
    "Варианты ответа:\n",
    "1. Январь\n",
    "2. Июнь\n",
    "3. Декабрь\n",
    "4. Сентябрь\n",
    "5. Май"
   ]
  },
  {
   "cell_type": "code",
   "execution_count": 678,
   "metadata": {},
   "outputs": [
    {
     "data": {
      "text/plain": [
       "9     227\n",
       "12    191\n",
       "10    186\n",
       "8     161\n",
       "3     156\n",
       "4     149\n",
       "6     147\n",
       "11    146\n",
       "7     142\n",
       "5     140\n",
       "2     135\n",
       "1     110\n",
       "Name: month, dtype: int64"
      ]
     },
     "execution_count": 678,
     "metadata": {},
     "output_type": "execute_result"
    }
   ],
   "source": [
    "data_with_month.month.value_counts()"
   ]
  },
  {
   "cell_type": "code",
   "execution_count": 679,
   "metadata": {},
   "outputs": [],
   "source": [
    "# вводим ответ\n",
    "t = 9"
   ]
  },
  {
   "cell_type": "code",
   "execution_count": 680,
   "metadata": {},
   "outputs": [],
   "source": [
    "# добавлем ответ в список ответов\n",
    "answer_ls.append(t)"
   ]
  },
  {
   "cell_type": "markdown",
   "metadata": {},
   "source": [
    "# 28. Сколько суммарно вышло фильмов летом? (за июнь, июль, август)\n",
    "Варианты ответа:\n",
    "1. 345\n",
    "2. 450\n",
    "3. 478\n",
    "4. 523\n",
    "5. 381"
   ]
  },
  {
   "cell_type": "code",
   "execution_count": 681,
   "metadata": {},
   "outputs": [
    {
     "data": {
      "text/plain": [
       "False    1440\n",
       "True      450\n",
       "Name: summer_month, dtype: int64"
      ]
     },
     "execution_count": 681,
     "metadata": {},
     "output_type": "execute_result"
    }
   ],
   "source": [
    "df_cur_films = data_with_month.copy()\n",
    "df_cur_films['summer_month'] = df_cur_films.month.apply(lambda x: x in [6,7,8])\n",
    "df_cur_films.summer_month.value_counts()"
   ]
  },
  {
   "cell_type": "code",
   "execution_count": 682,
   "metadata": {},
   "outputs": [],
   "source": [
    "# вводим ответ\n",
    "t = 450"
   ]
  },
  {
   "cell_type": "code",
   "execution_count": 683,
   "metadata": {},
   "outputs": [],
   "source": [
    "# добавлем ответ в список ответов\n",
    "answer_ls.append(t)"
   ]
  },
  {
   "cell_type": "markdown",
   "metadata": {},
   "source": [
    "# 29. Какой режисер выпускает (суммарно по годам) больше всего фильмов зимой?\n",
    "Варианты ответов:\n",
    "1. Steven Soderbergh\n",
    "2. Christopher Nolan\n",
    "3. Clint Eastwood\n",
    "4. Ridley Scott\n",
    "5. Peter Jackson"
   ]
  },
  {
   "cell_type": "code",
   "execution_count": 684,
   "metadata": {},
   "outputs": [
    {
     "data": {
      "text/plain": [
       "Peter Jackson        7\n",
       "Clint Eastwood       6\n",
       "Steven Soderbergh    6\n",
       "Shawn Levy           4\n",
       "Nancy Meyers         4\n",
       "                    ..\n",
       "D.J. Caruso          1\n",
       "Tommy Wirkola        1\n",
       "Ben Garant           1\n",
       "Gavin O'Connor       1\n",
       "Kathryn Bigelow      1\n",
       "Name: director, Length: 333, dtype: int64"
      ]
     },
     "execution_count": 684,
     "metadata": {},
     "output_type": "execute_result"
    }
   ],
   "source": [
    "df_cur_films = data_with_month.copy()\n",
    "df_cur_films['winter_month'] = df_cur_films.month.apply(lambda x: x in [12,1,2])\n",
    "df_cur_films = df_cur_films[df_cur_films.winter_month == True]\n",
    "df_cur_films.director.value_counts()"
   ]
  },
  {
   "cell_type": "code",
   "execution_count": 685,
   "metadata": {},
   "outputs": [],
   "source": [
    "# вводим ответ\n",
    "t = 'Peter Jackson'"
   ]
  },
  {
   "cell_type": "code",
   "execution_count": 686,
   "metadata": {},
   "outputs": [],
   "source": [
    "# добавлем ответ в список ответов\n",
    "answer_ls.append(t)"
   ]
  },
  {
   "cell_type": "markdown",
   "metadata": {},
   "source": [
    "# 30. Какой месяц чаще всего по годам самый прибыльный?\n",
    "Варианты ответа:\n",
    "1. Январь\n",
    "2. Июнь\n",
    "3. Декабрь\n",
    "4. Сентябрь\n",
    "5. Май"
   ]
  },
  {
   "cell_type": "code",
   "execution_count": 687,
   "metadata": {},
   "outputs": [],
   "source": [
    "df_cur_films = data_with_month.copy()"
   ]
  },
  {
   "cell_type": "code",
   "execution_count": 688,
   "metadata": {},
   "outputs": [
    {
     "data": {
      "text/html": [
       "<div>\n",
       "<style scoped>\n",
       "    .dataframe tbody tr th:only-of-type {\n",
       "        vertical-align: middle;\n",
       "    }\n",
       "\n",
       "    .dataframe tbody tr th {\n",
       "        vertical-align: top;\n",
       "    }\n",
       "\n",
       "    .dataframe thead th {\n",
       "        text-align: right;\n",
       "    }\n",
       "</style>\n",
       "<table border=\"1\" class=\"dataframe\">\n",
       "  <thead>\n",
       "    <tr style=\"text-align: right;\">\n",
       "      <th></th>\n",
       "      <th>popularity</th>\n",
       "      <th>budget</th>\n",
       "      <th>revenue</th>\n",
       "      <th>runtime</th>\n",
       "      <th>vote_count</th>\n",
       "      <th>vote_average</th>\n",
       "      <th>release_year</th>\n",
       "      <th>profit</th>\n",
       "      <th>month</th>\n",
       "    </tr>\n",
       "  </thead>\n",
       "  <tbody>\n",
       "    <tr>\n",
       "      <td>count</td>\n",
       "      <td>1890.000000</td>\n",
       "      <td>1.890000e+03</td>\n",
       "      <td>1.890000e+03</td>\n",
       "      <td>1890.000000</td>\n",
       "      <td>1890.000000</td>\n",
       "      <td>1890.000000</td>\n",
       "      <td>1890.000000</td>\n",
       "      <td>1.890000e+03</td>\n",
       "      <td>1890.000000</td>\n",
       "    </tr>\n",
       "    <tr>\n",
       "      <td>mean</td>\n",
       "      <td>1.560611</td>\n",
       "      <td>5.450696e+07</td>\n",
       "      <td>1.552890e+08</td>\n",
       "      <td>109.653439</td>\n",
       "      <td>785.666667</td>\n",
       "      <td>6.140899</td>\n",
       "      <td>2007.861905</td>\n",
       "      <td>1.007820e+08</td>\n",
       "      <td>6.935979</td>\n",
       "    </tr>\n",
       "    <tr>\n",
       "      <td>std</td>\n",
       "      <td>1.849471</td>\n",
       "      <td>4.931705e+07</td>\n",
       "      <td>2.146386e+08</td>\n",
       "      <td>18.013641</td>\n",
       "      <td>1068.725880</td>\n",
       "      <td>0.764584</td>\n",
       "      <td>4.467929</td>\n",
       "      <td>1.834078e+08</td>\n",
       "      <td>3.391302</td>\n",
       "    </tr>\n",
       "    <tr>\n",
       "      <td>min</td>\n",
       "      <td>0.010335</td>\n",
       "      <td>5.000000e+06</td>\n",
       "      <td>2.033165e+06</td>\n",
       "      <td>63.000000</td>\n",
       "      <td>10.000000</td>\n",
       "      <td>3.300000</td>\n",
       "      <td>2000.000000</td>\n",
       "      <td>-4.139124e+08</td>\n",
       "      <td>1.000000</td>\n",
       "    </tr>\n",
       "    <tr>\n",
       "      <td>25%</td>\n",
       "      <td>0.643284</td>\n",
       "      <td>2.000000e+07</td>\n",
       "      <td>3.434007e+07</td>\n",
       "      <td>97.000000</td>\n",
       "      <td>164.000000</td>\n",
       "      <td>5.600000</td>\n",
       "      <td>2004.000000</td>\n",
       "      <td>5.000000e+06</td>\n",
       "      <td>4.000000</td>\n",
       "    </tr>\n",
       "    <tr>\n",
       "      <td>50%</td>\n",
       "      <td>1.065065</td>\n",
       "      <td>3.800000e+07</td>\n",
       "      <td>8.358664e+07</td>\n",
       "      <td>106.500000</td>\n",
       "      <td>389.000000</td>\n",
       "      <td>6.100000</td>\n",
       "      <td>2008.000000</td>\n",
       "      <td>4.400020e+07</td>\n",
       "      <td>7.000000</td>\n",
       "    </tr>\n",
       "    <tr>\n",
       "      <td>75%</td>\n",
       "      <td>1.804537</td>\n",
       "      <td>7.200000e+07</td>\n",
       "      <td>1.782136e+08</td>\n",
       "      <td>120.000000</td>\n",
       "      <td>937.750000</td>\n",
       "      <td>6.600000</td>\n",
       "      <td>2012.000000</td>\n",
       "      <td>1.201703e+08</td>\n",
       "      <td>10.000000</td>\n",
       "    </tr>\n",
       "    <tr>\n",
       "      <td>max</td>\n",
       "      <td>32.985763</td>\n",
       "      <td>4.250000e+08</td>\n",
       "      <td>2.781506e+09</td>\n",
       "      <td>214.000000</td>\n",
       "      <td>9767.000000</td>\n",
       "      <td>8.100000</td>\n",
       "      <td>2015.000000</td>\n",
       "      <td>2.544506e+09</td>\n",
       "      <td>12.000000</td>\n",
       "    </tr>\n",
       "  </tbody>\n",
       "</table>\n",
       "</div>"
      ],
      "text/plain": [
       "        popularity        budget       revenue      runtime   vote_count  \\\n",
       "count  1890.000000  1.890000e+03  1.890000e+03  1890.000000  1890.000000   \n",
       "mean      1.560611  5.450696e+07  1.552890e+08   109.653439   785.666667   \n",
       "std       1.849471  4.931705e+07  2.146386e+08    18.013641  1068.725880   \n",
       "min       0.010335  5.000000e+06  2.033165e+06    63.000000    10.000000   \n",
       "25%       0.643284  2.000000e+07  3.434007e+07    97.000000   164.000000   \n",
       "50%       1.065065  3.800000e+07  8.358664e+07   106.500000   389.000000   \n",
       "75%       1.804537  7.200000e+07  1.782136e+08   120.000000   937.750000   \n",
       "max      32.985763  4.250000e+08  2.781506e+09   214.000000  9767.000000   \n",
       "\n",
       "       vote_average  release_year        profit        month  \n",
       "count   1890.000000   1890.000000  1.890000e+03  1890.000000  \n",
       "mean       6.140899   2007.861905  1.007820e+08     6.935979  \n",
       "std        0.764584      4.467929  1.834078e+08     3.391302  \n",
       "min        3.300000   2000.000000 -4.139124e+08     1.000000  \n",
       "25%        5.600000   2004.000000  5.000000e+06     4.000000  \n",
       "50%        6.100000   2008.000000  4.400020e+07     7.000000  \n",
       "75%        6.600000   2012.000000  1.201703e+08    10.000000  \n",
       "max        8.100000   2015.000000  2.544506e+09    12.000000  "
      ]
     },
     "execution_count": 688,
     "metadata": {},
     "output_type": "execute_result"
    }
   ],
   "source": [
    "df_cur_films ['year_month'] = df_cur_films.release_date.apply(get_year_month)\n",
    "df_cur_films.describe()"
   ]
  },
  {
   "cell_type": "code",
   "execution_count": 689,
   "metadata": {},
   "outputs": [],
   "source": [
    "month_list = [i for i in range (1, 13)]\n",
    "years_list = [i for i in range (2000, 2016)]"
   ]
  },
  {
   "cell_type": "code",
   "execution_count": 690,
   "metadata": {},
   "outputs": [],
   "source": [
    "res_dict={}\n",
    "for yr in years_list:\n",
    "    cur_dict = {}\n",
    "    for mn in month_list:\n",
    "        cntr = df_cur_films[(df_cur_films.release_year == yr) & (df_cur_films.month == mn)].original_title.count()\n",
    "        cur_dict[mn] = cntr\n",
    "    res_dict[yr] = cur_dict"
   ]
  },
  {
   "cell_type": "code",
   "execution_count": 691,
   "metadata": {},
   "outputs": [
    {
     "data": {
      "text/plain": [
       "{2000: 12,\n",
       " 2001: 10,\n",
       " 2002: 12,\n",
       " 2003: 4,\n",
       " 2004: 4,\n",
       " 2005: 9,\n",
       " 2006: 9,\n",
       " 2007: 9,\n",
       " 2008: 10,\n",
       " 2009: 9,\n",
       " 2010: 9,\n",
       " 2011: 9,\n",
       " 2012: 9,\n",
       " 2013: 9,\n",
       " 2014: 12,\n",
       " 2015: 9}"
      ]
     },
     "execution_count": 691,
     "metadata": {},
     "output_type": "execute_result"
    }
   ],
   "source": [
    "max_in_years = {}\n",
    "for y,d in res_dict.items():\n",
    "    cur_max = 0\n",
    "    res = 0\n",
    "    for m,c in d.items():\n",
    "        if c > cur_max:\n",
    "            cur_max = c\n",
    "            res = m\n",
    "    max_in_years[y] = res\n",
    "max_in_years"
   ]
  },
  {
   "cell_type": "code",
   "execution_count": 692,
   "metadata": {},
   "outputs": [
    {
     "data": {
      "text/html": [
       "<div>\n",
       "<style scoped>\n",
       "    .dataframe tbody tr th:only-of-type {\n",
       "        vertical-align: middle;\n",
       "    }\n",
       "\n",
       "    .dataframe tbody tr th {\n",
       "        vertical-align: top;\n",
       "    }\n",
       "\n",
       "    .dataframe thead tr th {\n",
       "        text-align: left;\n",
       "    }\n",
       "\n",
       "    .dataframe thead tr:last-of-type th {\n",
       "        text-align: right;\n",
       "    }\n",
       "</style>\n",
       "<table border=\"1\" class=\"dataframe\">\n",
       "  <thead>\n",
       "    <tr>\n",
       "      <th></th>\n",
       "      <th colspan=\"12\" halign=\"left\">original_title</th>\n",
       "    </tr>\n",
       "    <tr>\n",
       "      <th>month</th>\n",
       "      <th>1</th>\n",
       "      <th>2</th>\n",
       "      <th>3</th>\n",
       "      <th>4</th>\n",
       "      <th>5</th>\n",
       "      <th>6</th>\n",
       "      <th>7</th>\n",
       "      <th>8</th>\n",
       "      <th>9</th>\n",
       "      <th>10</th>\n",
       "      <th>11</th>\n",
       "      <th>12</th>\n",
       "    </tr>\n",
       "    <tr>\n",
       "      <th>release_year</th>\n",
       "      <th></th>\n",
       "      <th></th>\n",
       "      <th></th>\n",
       "      <th></th>\n",
       "      <th></th>\n",
       "      <th></th>\n",
       "      <th></th>\n",
       "      <th></th>\n",
       "      <th></th>\n",
       "      <th></th>\n",
       "      <th></th>\n",
       "      <th></th>\n",
       "    </tr>\n",
       "  </thead>\n",
       "  <tbody>\n",
       "    <tr>\n",
       "      <td>2000</td>\n",
       "      <td>2</td>\n",
       "      <td>7</td>\n",
       "      <td>9</td>\n",
       "      <td>10</td>\n",
       "      <td>7</td>\n",
       "      <td>8</td>\n",
       "      <td>8</td>\n",
       "      <td>5</td>\n",
       "      <td>5</td>\n",
       "      <td>8</td>\n",
       "      <td>7</td>\n",
       "      <td>14</td>\n",
       "    </tr>\n",
       "    <tr>\n",
       "      <td>2001</td>\n",
       "      <td>4</td>\n",
       "      <td>7</td>\n",
       "      <td>7</td>\n",
       "      <td>7</td>\n",
       "      <td>5</td>\n",
       "      <td>10</td>\n",
       "      <td>11</td>\n",
       "      <td>11</td>\n",
       "      <td>8</td>\n",
       "      <td>13</td>\n",
       "      <td>9</td>\n",
       "      <td>11</td>\n",
       "    </tr>\n",
       "    <tr>\n",
       "      <td>2002</td>\n",
       "      <td>4</td>\n",
       "      <td>10</td>\n",
       "      <td>11</td>\n",
       "      <td>8</td>\n",
       "      <td>7</td>\n",
       "      <td>7</td>\n",
       "      <td>7</td>\n",
       "      <td>11</td>\n",
       "      <td>9</td>\n",
       "      <td>11</td>\n",
       "      <td>7</td>\n",
       "      <td>15</td>\n",
       "    </tr>\n",
       "    <tr>\n",
       "      <td>2003</td>\n",
       "      <td>3</td>\n",
       "      <td>8</td>\n",
       "      <td>6</td>\n",
       "      <td>11</td>\n",
       "      <td>8</td>\n",
       "      <td>6</td>\n",
       "      <td>8</td>\n",
       "      <td>8</td>\n",
       "      <td>9</td>\n",
       "      <td>11</td>\n",
       "      <td>9</td>\n",
       "      <td>9</td>\n",
       "    </tr>\n",
       "    <tr>\n",
       "      <td>2004</td>\n",
       "      <td>5</td>\n",
       "      <td>9</td>\n",
       "      <td>7</td>\n",
       "      <td>15</td>\n",
       "      <td>8</td>\n",
       "      <td>11</td>\n",
       "      <td>8</td>\n",
       "      <td>6</td>\n",
       "      <td>10</td>\n",
       "      <td>10</td>\n",
       "      <td>8</td>\n",
       "      <td>12</td>\n",
       "    </tr>\n",
       "    <tr>\n",
       "      <td>2005</td>\n",
       "      <td>9</td>\n",
       "      <td>8</td>\n",
       "      <td>8</td>\n",
       "      <td>6</td>\n",
       "      <td>11</td>\n",
       "      <td>13</td>\n",
       "      <td>10</td>\n",
       "      <td>9</td>\n",
       "      <td>21</td>\n",
       "      <td>7</td>\n",
       "      <td>10</td>\n",
       "      <td>9</td>\n",
       "    </tr>\n",
       "    <tr>\n",
       "      <td>2006</td>\n",
       "      <td>5</td>\n",
       "      <td>8</td>\n",
       "      <td>13</td>\n",
       "      <td>9</td>\n",
       "      <td>9</td>\n",
       "      <td>9</td>\n",
       "      <td>8</td>\n",
       "      <td>12</td>\n",
       "      <td>18</td>\n",
       "      <td>12</td>\n",
       "      <td>7</td>\n",
       "      <td>17</td>\n",
       "    </tr>\n",
       "    <tr>\n",
       "      <td>2007</td>\n",
       "      <td>5</td>\n",
       "      <td>10</td>\n",
       "      <td>11</td>\n",
       "      <td>12</td>\n",
       "      <td>8</td>\n",
       "      <td>12</td>\n",
       "      <td>8</td>\n",
       "      <td>13</td>\n",
       "      <td>14</td>\n",
       "      <td>13</td>\n",
       "      <td>11</td>\n",
       "      <td>13</td>\n",
       "    </tr>\n",
       "    <tr>\n",
       "      <td>2008</td>\n",
       "      <td>7</td>\n",
       "      <td>11</td>\n",
       "      <td>5</td>\n",
       "      <td>10</td>\n",
       "      <td>9</td>\n",
       "      <td>9</td>\n",
       "      <td>10</td>\n",
       "      <td>13</td>\n",
       "      <td>12</td>\n",
       "      <td>15</td>\n",
       "      <td>8</td>\n",
       "      <td>12</td>\n",
       "    </tr>\n",
       "    <tr>\n",
       "      <td>2009</td>\n",
       "      <td>12</td>\n",
       "      <td>8</td>\n",
       "      <td>12</td>\n",
       "      <td>9</td>\n",
       "      <td>7</td>\n",
       "      <td>10</td>\n",
       "      <td>8</td>\n",
       "      <td>11</td>\n",
       "      <td>22</td>\n",
       "      <td>11</td>\n",
       "      <td>11</td>\n",
       "      <td>10</td>\n",
       "    </tr>\n",
       "    <tr>\n",
       "      <td>2010</td>\n",
       "      <td>9</td>\n",
       "      <td>8</td>\n",
       "      <td>11</td>\n",
       "      <td>10</td>\n",
       "      <td>8</td>\n",
       "      <td>12</td>\n",
       "      <td>9</td>\n",
       "      <td>10</td>\n",
       "      <td>14</td>\n",
       "      <td>14</td>\n",
       "      <td>11</td>\n",
       "      <td>11</td>\n",
       "    </tr>\n",
       "    <tr>\n",
       "      <td>2011</td>\n",
       "      <td>10</td>\n",
       "      <td>12</td>\n",
       "      <td>15</td>\n",
       "      <td>13</td>\n",
       "      <td>11</td>\n",
       "      <td>5</td>\n",
       "      <td>12</td>\n",
       "      <td>9</td>\n",
       "      <td>21</td>\n",
       "      <td>11</td>\n",
       "      <td>10</td>\n",
       "      <td>14</td>\n",
       "    </tr>\n",
       "    <tr>\n",
       "      <td>2012</td>\n",
       "      <td>7</td>\n",
       "      <td>7</td>\n",
       "      <td>10</td>\n",
       "      <td>10</td>\n",
       "      <td>11</td>\n",
       "      <td>12</td>\n",
       "      <td>3</td>\n",
       "      <td>12</td>\n",
       "      <td>19</td>\n",
       "      <td>8</td>\n",
       "      <td>6</td>\n",
       "      <td>6</td>\n",
       "    </tr>\n",
       "    <tr>\n",
       "      <td>2013</td>\n",
       "      <td>11</td>\n",
       "      <td>8</td>\n",
       "      <td>10</td>\n",
       "      <td>7</td>\n",
       "      <td>11</td>\n",
       "      <td>10</td>\n",
       "      <td>12</td>\n",
       "      <td>10</td>\n",
       "      <td>19</td>\n",
       "      <td>14</td>\n",
       "      <td>8</td>\n",
       "      <td>15</td>\n",
       "    </tr>\n",
       "    <tr>\n",
       "      <td>2014</td>\n",
       "      <td>9</td>\n",
       "      <td>8</td>\n",
       "      <td>12</td>\n",
       "      <td>5</td>\n",
       "      <td>12</td>\n",
       "      <td>4</td>\n",
       "      <td>9</td>\n",
       "      <td>13</td>\n",
       "      <td>9</td>\n",
       "      <td>15</td>\n",
       "      <td>9</td>\n",
       "      <td>16</td>\n",
       "    </tr>\n",
       "    <tr>\n",
       "      <td>2015</td>\n",
       "      <td>8</td>\n",
       "      <td>6</td>\n",
       "      <td>9</td>\n",
       "      <td>7</td>\n",
       "      <td>8</td>\n",
       "      <td>9</td>\n",
       "      <td>11</td>\n",
       "      <td>8</td>\n",
       "      <td>17</td>\n",
       "      <td>13</td>\n",
       "      <td>15</td>\n",
       "      <td>7</td>\n",
       "    </tr>\n",
       "  </tbody>\n",
       "</table>\n",
       "</div>"
      ],
      "text/plain": [
       "             original_title                                            \n",
       "month                    1   2   3   4   5   6   7   8   9   10  11  12\n",
       "release_year                                                           \n",
       "2000                      2   7   9  10   7   8   8   5   5   8   7  14\n",
       "2001                      4   7   7   7   5  10  11  11   8  13   9  11\n",
       "2002                      4  10  11   8   7   7   7  11   9  11   7  15\n",
       "2003                      3   8   6  11   8   6   8   8   9  11   9   9\n",
       "2004                      5   9   7  15   8  11   8   6  10  10   8  12\n",
       "2005                      9   8   8   6  11  13  10   9  21   7  10   9\n",
       "2006                      5   8  13   9   9   9   8  12  18  12   7  17\n",
       "2007                      5  10  11  12   8  12   8  13  14  13  11  13\n",
       "2008                      7  11   5  10   9   9  10  13  12  15   8  12\n",
       "2009                     12   8  12   9   7  10   8  11  22  11  11  10\n",
       "2010                      9   8  11  10   8  12   9  10  14  14  11  11\n",
       "2011                     10  12  15  13  11   5  12   9  21  11  10  14\n",
       "2012                      7   7  10  10  11  12   3  12  19   8   6   6\n",
       "2013                     11   8  10   7  11  10  12  10  19  14   8  15\n",
       "2014                      9   8  12   5  12   4   9  13   9  15   9  16\n",
       "2015                      8   6   9   7   8   9  11   8  17  13  15   7"
      ]
     },
     "metadata": {},
     "output_type": "display_data"
    }
   ],
   "source": [
    "pivot = df_cur_films.pivot_table(values=['original_title'],\n",
    "    index=['release_year'],\n",
    "    columns=['month'],\n",
    "    aggfunc='count',\n",
    "    fill_value = 0)\n",
    "display(pivot)"
   ]
  },
  {
   "cell_type": "code",
   "execution_count": 693,
   "metadata": {},
   "outputs": [],
   "source": [
    "# вводим ответ\n",
    "t = 'Сентябрь'"
   ]
  },
  {
   "cell_type": "code",
   "execution_count": 694,
   "metadata": {},
   "outputs": [],
   "source": [
    "# добавлем ответ в список ответов\n",
    "answer_ls.append(t)"
   ]
  },
  {
   "cell_type": "markdown",
   "metadata": {},
   "source": [
    "# 31. Названия фильмов какой студии в среднем самые длинные по количеству символов?\n",
    "Варианты ответа:\n",
    "1. Universal Pictures (Universal)\n",
    "2. Warner Bros\n",
    "3. Jim Henson Company, The\n",
    "4. Paramount Pictures\n",
    "5. Four By Two Productions"
   ]
  },
  {
   "cell_type": "code",
   "execution_count": 695,
   "metadata": {},
   "outputs": [],
   "source": [
    "studio_list = ['Universal Pictures',\n",
    "               'Warner Bros',\n",
    "               'Jim Henson Company, The',\n",
    "               'Paramount Pictures',\n",
    "               'Four By Two Productions'\n",
    "              ]\n",
    "studio_dict={}\n",
    "for st in studio_list:\n",
    "    studio_dict[st] = 0"
   ]
  },
  {
   "cell_type": "code",
   "execution_count": 696,
   "metadata": {},
   "outputs": [
    {
     "data": {
      "text/plain": [
       "{'Universal Pictures': 14.731428571428571,\n",
       " 'Warner Bros': 15.251366120218579,\n",
       " 'Jim Henson Company, The': 59.0,\n",
       " 'Paramount Pictures': 17.0327868852459,\n",
       " 'Four By Two Productions': 83.0}"
      ]
     },
     "execution_count": 696,
     "metadata": {},
     "output_type": "execute_result"
    }
   ],
   "source": [
    "df_cur_films = data_with_month.copy()\n",
    "\n",
    "for st in studio_list:\n",
    "    df_cur_films_st = df_cur_films[df_cur_films['production_companies'].str.contains(st, na=False)].copy()\n",
    "#df_cur_films_st.head()\n",
    "    df_cur_films_st['title_len'] = df_cur_films_st['original_title'].apply(get_title_len)\n",
    "    studio_dict[st] =  df_cur_films_st['title_len'].mean()\n",
    "studio_dict"
   ]
  },
  {
   "cell_type": "code",
   "execution_count": 697,
   "metadata": {},
   "outputs": [],
   "source": [
    "# вводим ответ\n",
    "t = 'Four By Two Productions'"
   ]
  },
  {
   "cell_type": "code",
   "execution_count": 698,
   "metadata": {},
   "outputs": [],
   "source": [
    "# добавлем ответ в список ответов\n",
    "answer_ls.append(t)"
   ]
  },
  {
   "cell_type": "markdown",
   "metadata": {},
   "source": [
    "# 32. Названия фильмов какой студии в среднем самые длинные по количеству слов?\n",
    "Варианты ответа:\n",
    "1. Universal Pictures (Universal)\n",
    "2. Warner Bros\n",
    "3. Jim Henson Company, The\n",
    "4. Paramount Pictures\n",
    "5. Four By Two Productions"
   ]
  },
  {
   "cell_type": "code",
   "execution_count": 699,
   "metadata": {},
   "outputs": [],
   "source": [
    "studio_list = ['Universal Pictures',\n",
    "               'Warner Bros',\n",
    "               'Jim Henson Company, The',\n",
    "               'Paramount Pictures',\n",
    "               'Four By Two Productions'\n",
    "              ]\n",
    "studio_dict={}\n",
    "for st in studio_list:\n",
    "    studio_dict[st] = 0"
   ]
  },
  {
   "cell_type": "code",
   "execution_count": 700,
   "metadata": {},
   "outputs": [
    {
     "data": {
      "text/plain": [
       "{'Universal Pictures': 2.617142857142857,\n",
       " 'Warner Bros': 2.73224043715847,\n",
       " 'Jim Henson Company, The': 10.0,\n",
       " 'Paramount Pictures': 2.8688524590163933,\n",
       " 'Four By Two Productions': 12.0}"
      ]
     },
     "execution_count": 700,
     "metadata": {},
     "output_type": "execute_result"
    }
   ],
   "source": [
    "df_cur_films = data_with_month.copy()\n",
    "\n",
    "for st in studio_list:\n",
    "    df_cur_films_st = df_cur_films[df_cur_films['production_companies'].str.contains(st, na=False)].copy()\n",
    "    df_cur_films_st['title_wrds_count'] = df_cur_films_st['original_title'].apply(get_title_words_count)\n",
    "    studio_dict[st] =  df_cur_films_st['title_wrds_count'].mean()\n",
    "studio_dict"
   ]
  },
  {
   "cell_type": "code",
   "execution_count": 701,
   "metadata": {},
   "outputs": [],
   "source": [
    "# вводим ответ\n",
    "t = 'Four By Two Productions'"
   ]
  },
  {
   "cell_type": "code",
   "execution_count": 702,
   "metadata": {},
   "outputs": [],
   "source": [
    "# добавлем ответ в список ответов\n",
    "answer_ls.append(t)"
   ]
  },
  {
   "cell_type": "markdown",
   "metadata": {},
   "source": [
    "# 33. Сколько разных слов используется в названиях фильмов?(без учета регистра)\n",
    "Варианты ответа:\n",
    "1. 6540\n",
    "2. 1002\n",
    "3. 2461\n",
    "4. 28304\n",
    "5. 3432"
   ]
  },
  {
   "cell_type": "code",
   "execution_count": 703,
   "metadata": {},
   "outputs": [],
   "source": [
    "df_cur_films = data_with_month.copy()"
   ]
  },
  {
   "cell_type": "code",
   "execution_count": 704,
   "metadata": {},
   "outputs": [
    {
     "data": {
      "text/plain": [
       "2462"
      ]
     },
     "execution_count": 704,
     "metadata": {},
     "output_type": "execute_result"
    }
   ],
   "source": [
    "all_wrds = []\n",
    "for ttl in df_cur_films.original_title:\n",
    "    cur_wrds = ttl.split(sep = ' ')\n",
    "    \n",
    "    for wrd in cur_wrds:\n",
    "        if wrd.lower() not in all_wrds:\n",
    "            all_wrds.append(wrd.lower())\n",
    "len(all_wrds)"
   ]
  },
  {
   "cell_type": "code",
   "execution_count": 705,
   "metadata": {},
   "outputs": [],
   "source": [
    "# вводим ответ\n",
    "t = 2461"
   ]
  },
  {
   "cell_type": "code",
   "execution_count": 706,
   "metadata": {},
   "outputs": [],
   "source": [
    "# добавлем ответ в список ответов\n",
    "answer_ls.append(t)"
   ]
  },
  {
   "cell_type": "markdown",
   "metadata": {},
   "source": [
    "# 34. Какие фильмы входят в 1 процент лучших по рейтингу?\n",
    "Варианты ответа:\n",
    "1. Inside Out, Gone Girl, 12 Years a Slave\n",
    "2. BloodRayne, The Adventures of Rocky & Bullwinkle\n",
    "3. The Lord of the Rings: The Return of the King\n",
    "4. 300, Lucky Number Slevin"
   ]
  },
  {
   "cell_type": "code",
   "execution_count": 707,
   "metadata": {},
   "outputs": [],
   "source": [
    "film_list = ['Inside Out, Gone Girl, 12 Years a Slave',\n",
    "             'BloodRayne, The Adventures of Rocky & Bullwinkle',\n",
    "             'The Lord of the Rings: The Return of the King',\n",
    "             '300, Lucky Number Slevin'\n",
    "              ]\n",
    "film_dict={}\n",
    "for flm in film_list:\n",
    "    film_dict[flm] = 0"
   ]
  },
  {
   "cell_type": "code",
   "execution_count": 708,
   "metadata": {},
   "outputs": [],
   "source": [
    "df_cur_films = data_with_month.copy()\n",
    "df_cur_films = df_cur_films.sort_values('vote_average', ascending = False)"
   ]
  },
  {
   "cell_type": "code",
   "execution_count": 709,
   "metadata": {},
   "outputs": [],
   "source": [
    "one_percent = int(df_cur_films.original_title.count() * 0.1)"
   ]
  },
  {
   "cell_type": "code",
   "execution_count": 710,
   "metadata": {},
   "outputs": [],
   "source": [
    "df_cur_films = df_cur_films.head(one_percent)"
   ]
  },
  {
   "cell_type": "code",
   "execution_count": 711,
   "metadata": {},
   "outputs": [],
   "source": [
    "one_percent_films = [i for i in df_cur_films.original_title]"
   ]
  },
  {
   "cell_type": "code",
   "execution_count": 712,
   "metadata": {},
   "outputs": [
    {
     "data": {
      "text/plain": [
       "{'Inside Out, Gone Girl, 12 Years a Slave': False,\n",
       " 'BloodRayne, The Adventures of Rocky & Bullwinkle': False,\n",
       " 'The Lord of the Rings: The Return of the King': True,\n",
       " '300, Lucky Number Slevin': False}"
      ]
     },
     "execution_count": 712,
     "metadata": {},
     "output_type": "execute_result"
    }
   ],
   "source": [
    "for flm in film_list:\n",
    "    if flm in one_percent_films:\n",
    "        film_dict[flm] = True\n",
    "    else:\n",
    "        film_dict[flm] = False\n",
    "film_dict"
   ]
  },
  {
   "cell_type": "code",
   "execution_count": 713,
   "metadata": {},
   "outputs": [],
   "source": [
    "# вводим ответ\n",
    "t = 'The Lord of the Rings: The Return of the King'"
   ]
  },
  {
   "cell_type": "code",
   "execution_count": 714,
   "metadata": {},
   "outputs": [],
   "source": [
    "# добавлем ответ в список ответов\n",
    "answer_ls.append(t)"
   ]
  },
  {
   "cell_type": "markdown",
   "metadata": {},
   "source": [
    "# 35. Какие актеры чаще всего снимаются в одном фильме вместе\n",
    "Варианты ответа:\n",
    "1. Johnny Depp & Helena Bonham Carter\n",
    "2. Hugh Jackman & Ian McKellen\n",
    "3. Vin Diesel & Paul Walker\n",
    "4. Adam Sandler & Kevin James\n",
    "5. Daniel Radcliffe & Rupert Grint"
   ]
  },
  {
   "cell_type": "code",
   "execution_count": 715,
   "metadata": {},
   "outputs": [],
   "source": [
    "df_cur_films = data_with_month.copy()"
   ]
  },
  {
   "cell_type": "code",
   "execution_count": 716,
   "metadata": {},
   "outputs": [],
   "source": [
    "act_list = ['Johnny Depp & Helena Bonham Carter',\n",
    "            'Hugh Jackman & Ian McKellen',\n",
    "            'Vin Diesel & Paul Walker',\n",
    "            'Adam Sandler & Kevin James',\n",
    "            'Daniel Radcliffe & Rupert Grint'\n",
    "              ]\n",
    "act_dict={}\n",
    "for actrs in act_list:\n",
    "    act_dict[actrs] = 0"
   ]
  },
  {
   "cell_type": "code",
   "execution_count": 717,
   "metadata": {},
   "outputs": [],
   "source": [
    "def convert_res (res):\n",
    "    if res == True:\n",
    "        return 1\n",
    "    else:\n",
    "        return 0"
   ]
  },
  {
   "cell_type": "code",
   "execution_count": 718,
   "metadata": {},
   "outputs": [],
   "source": [
    "def check_both (dt):\n",
    "    if dt == 2:\n",
    "        return 1\n",
    "    else:\n",
    "        return 0"
   ]
  },
  {
   "cell_type": "code",
   "execution_count": 719,
   "metadata": {},
   "outputs": [],
   "source": [
    "for actrs in act_list:\n",
    "    actrs_list = actrs.split(sep = ' & ')\n",
    "    for actr in actrs_list:\n",
    "        #print (actr)\n",
    "        df_cur_films[actr] = df_cur_films['cast'].str.contains(actr, na=False)\n",
    "        df_cur_films[actr] = df_cur_films[actr].apply(convert_res)"
   ]
  },
  {
   "cell_type": "code",
   "execution_count": 720,
   "metadata": {},
   "outputs": [
    {
     "data": {
      "text/plain": [
       "{'Johnny Depp & Helena Bonham Carter': 6,\n",
       " 'Hugh Jackman & Ian McKellen': 5,\n",
       " 'Vin Diesel & Paul Walker': 5,\n",
       " 'Adam Sandler & Kevin James': 5,\n",
       " 'Daniel Radcliffe & Rupert Grint': 8}"
      ]
     },
     "execution_count": 720,
     "metadata": {},
     "output_type": "execute_result"
    }
   ],
   "source": [
    "for actrs in act_list:\n",
    "    actrs_list = actrs.split(sep = ' & ')\n",
    "    df_cur_films[actrs] = df_cur_films[actrs_list[0]] + df_cur_films[actrs_list[1]]\n",
    "    df_cur_films[actrs] = df_cur_films[actrs].apply(check_both)\n",
    "    act_dict[actrs] = df_cur_films[actrs].sum()\n",
    "act_dict"
   ]
  },
  {
   "cell_type": "code",
   "execution_count": 721,
   "metadata": {},
   "outputs": [],
   "source": [
    "# вводим ответ\n",
    "t = 'Daniel Radcliffe & Rupert Grint'"
   ]
  },
  {
   "cell_type": "code",
   "execution_count": 722,
   "metadata": {},
   "outputs": [],
   "source": [
    "# добавлем ответ в список ответов\n",
    "answer_ls.append(t)"
   ]
  },
  {
   "cell_type": "markdown",
   "metadata": {},
   "source": [
    "# 36. У какого из режиссеров выше вероятность выпустить фильм в прибыли? (5 баллов)101\n",
    "Варианты ответа:\n",
    "1. Quentin Tarantino\n",
    "2. Steven Soderbergh\n",
    "3. Robert Rodriguez\n",
    "4. Christopher Nolan\n",
    "5. Clint Eastwood"
   ]
  },
  {
   "cell_type": "code",
   "execution_count": 723,
   "metadata": {},
   "outputs": [],
   "source": [
    "prod_list = ['Quentin Tarantino',\n",
    "             'Steven Soderbergh',\n",
    "             'Robert Rodriguez',\n",
    "             'Christopher Nolan',\n",
    "             'Clint Eastwood'\n",
    "              ]\n",
    "prod_dict={}\n",
    "for prodr in prod_list:\n",
    "    prod_dict[prodr] = 0"
   ]
  },
  {
   "cell_type": "code",
   "execution_count": 724,
   "metadata": {},
   "outputs": [],
   "source": [
    "def check_profit (dt):\n",
    "    if dt > 0:\n",
    "        return 1\n",
    "    else:\n",
    "        return 0"
   ]
  },
  {
   "cell_type": "code",
   "execution_count": 725,
   "metadata": {},
   "outputs": [],
   "source": [
    "df_cur_films = data_with_month.copy()\n",
    "df_cur_films['profit_attr'] = df_cur_films.profit.apply(check_profit)"
   ]
  },
  {
   "cell_type": "code",
   "execution_count": 726,
   "metadata": {},
   "outputs": [
    {
     "data": {
      "text/plain": [
       "{'Quentin Tarantino': 1.0,\n",
       " 'Steven Soderbergh': 0.7692307692307693,\n",
       " 'Robert Rodriguez': 0.8571428571428571,\n",
       " 'Christopher Nolan': 1.0,\n",
       " 'Clint Eastwood': 0.8333333333333334}"
      ]
     },
     "execution_count": 726,
     "metadata": {},
     "output_type": "execute_result"
    }
   ],
   "source": [
    "for prodr in prod_list:\n",
    "    res = (df_cur_films[(df_cur_films.profit_attr == 1) & (df_cur_films.director == prodr)].original_title.count()/\n",
    "    df_cur_films[df_cur_films.director == prodr].original_title.count())\n",
    "    prod_dict[prodr] = res\n",
    "prod_dict"
   ]
  },
  {
   "cell_type": "code",
   "execution_count": 727,
   "metadata": {},
   "outputs": [
    {
     "data": {
      "text/plain": [
       "{'Quentin Tarantino': 5,\n",
       " 'Steven Soderbergh': 13,\n",
       " 'Robert Rodriguez': 7,\n",
       " 'Christopher Nolan': 8,\n",
       " 'Clint Eastwood': 12}"
      ]
     },
     "execution_count": 727,
     "metadata": {},
     "output_type": "execute_result"
    }
   ],
   "source": [
    "prod_dict_all = {}\n",
    "for prodr in prod_list:\n",
    "    prod_dict_all[prodr] = df_cur_films[df_cur_films.director == prodr].original_title.count()\n",
    "prod_dict_all"
   ]
  },
  {
   "cell_type": "code",
   "execution_count": 728,
   "metadata": {},
   "outputs": [],
   "source": [
    "# вводим ответ\n",
    "t = 'Christopher Nolan'"
   ]
  },
  {
   "cell_type": "code",
   "execution_count": 729,
   "metadata": {},
   "outputs": [],
   "source": [
    "# добавлем ответ в список ответов\n",
    "answer_ls.append(t)"
   ]
  },
  {
   "cell_type": "markdown",
   "metadata": {},
   "source": [
    "# Submission"
   ]
  },
  {
   "cell_type": "code",
   "execution_count": 730,
   "metadata": {},
   "outputs": [
    {
     "data": {
      "text/plain": [
       "36"
      ]
     },
     "execution_count": 730,
     "metadata": {},
     "output_type": "execute_result"
    }
   ],
   "source": [
    "len(answer_ls)"
   ]
  },
  {
   "cell_type": "code",
   "execution_count": 731,
   "metadata": {},
   "outputs": [
    {
     "data": {
      "text/html": [
       "<div>\n",
       "<style scoped>\n",
       "    .dataframe tbody tr th:only-of-type {\n",
       "        vertical-align: middle;\n",
       "    }\n",
       "\n",
       "    .dataframe tbody tr th {\n",
       "        vertical-align: top;\n",
       "    }\n",
       "\n",
       "    .dataframe thead th {\n",
       "        text-align: right;\n",
       "    }\n",
       "</style>\n",
       "<table border=\"1\" class=\"dataframe\">\n",
       "  <thead>\n",
       "    <tr style=\"text-align: right;\">\n",
       "      <th></th>\n",
       "      <th>Id</th>\n",
       "      <th>Answer</th>\n",
       "    </tr>\n",
       "  </thead>\n",
       "  <tbody>\n",
       "    <tr>\n",
       "      <td>0</td>\n",
       "      <td>1</td>\n",
       "      <td>The Warrior's Way</td>\n",
       "    </tr>\n",
       "    <tr>\n",
       "      <td>1</td>\n",
       "      <td>2</td>\n",
       "      <td>Gods and Generals</td>\n",
       "    </tr>\n",
       "    <tr>\n",
       "      <td>2</td>\n",
       "      <td>3</td>\n",
       "      <td>Winnie the Pooh</td>\n",
       "    </tr>\n",
       "    <tr>\n",
       "      <td>3</td>\n",
       "      <td>4</td>\n",
       "      <td>110</td>\n",
       "    </tr>\n",
       "    <tr>\n",
       "      <td>4</td>\n",
       "      <td>5</td>\n",
       "      <td>106</td>\n",
       "    </tr>\n",
       "    <tr>\n",
       "      <td>5</td>\n",
       "      <td>6</td>\n",
       "      <td>Avatar</td>\n",
       "    </tr>\n",
       "    <tr>\n",
       "      <td>6</td>\n",
       "      <td>7</td>\n",
       "      <td>The Warrior's Way</td>\n",
       "    </tr>\n",
       "    <tr>\n",
       "      <td>7</td>\n",
       "      <td>8</td>\n",
       "      <td>1478</td>\n",
       "    </tr>\n",
       "    <tr>\n",
       "      <td>8</td>\n",
       "      <td>9</td>\n",
       "      <td>The Dark Knight</td>\n",
       "    </tr>\n",
       "    <tr>\n",
       "      <td>9</td>\n",
       "      <td>10</td>\n",
       "      <td>The Lone Ranger</td>\n",
       "    </tr>\n",
       "    <tr>\n",
       "      <td>10</td>\n",
       "      <td>11</td>\n",
       "      <td>Drama</td>\n",
       "    </tr>\n",
       "    <tr>\n",
       "      <td>11</td>\n",
       "      <td>12</td>\n",
       "      <td>Drama</td>\n",
       "    </tr>\n",
       "    <tr>\n",
       "      <td>12</td>\n",
       "      <td>13</td>\n",
       "      <td>Steven Soderbergh</td>\n",
       "    </tr>\n",
       "    <tr>\n",
       "      <td>13</td>\n",
       "      <td>14</td>\n",
       "      <td>Ridley Scott</td>\n",
       "    </tr>\n",
       "    <tr>\n",
       "      <td>14</td>\n",
       "      <td>15</td>\n",
       "      <td>Peter Jackson</td>\n",
       "    </tr>\n",
       "    <tr>\n",
       "      <td>15</td>\n",
       "      <td>16</td>\n",
       "      <td>Emma Watson</td>\n",
       "    </tr>\n",
       "    <tr>\n",
       "      <td>16</td>\n",
       "      <td>17</td>\n",
       "      <td>Danny Huston</td>\n",
       "    </tr>\n",
       "    <tr>\n",
       "      <td>17</td>\n",
       "      <td>18</td>\n",
       "      <td>Matt Damon</td>\n",
       "    </tr>\n",
       "    <tr>\n",
       "      <td>18</td>\n",
       "      <td>19</td>\n",
       "      <td>Action</td>\n",
       "    </tr>\n",
       "    <tr>\n",
       "      <td>19</td>\n",
       "      <td>20</td>\n",
       "      <td>Warner Bros</td>\n",
       "    </tr>\n",
       "    <tr>\n",
       "      <td>20</td>\n",
       "      <td>21</td>\n",
       "      <td>Warner Bros</td>\n",
       "    </tr>\n",
       "    <tr>\n",
       "      <td>21</td>\n",
       "      <td>22</td>\n",
       "      <td>Universal Pictures</td>\n",
       "    </tr>\n",
       "    <tr>\n",
       "      <td>22</td>\n",
       "      <td>23</td>\n",
       "      <td>Columbia Pictures</td>\n",
       "    </tr>\n",
       "    <tr>\n",
       "      <td>23</td>\n",
       "      <td>24</td>\n",
       "      <td>K-19: The Widowmaker</td>\n",
       "    </tr>\n",
       "    <tr>\n",
       "      <td>24</td>\n",
       "      <td>25</td>\n",
       "      <td>2015</td>\n",
       "    </tr>\n",
       "    <tr>\n",
       "      <td>25</td>\n",
       "      <td>26</td>\n",
       "      <td>2014</td>\n",
       "    </tr>\n",
       "    <tr>\n",
       "      <td>26</td>\n",
       "      <td>27</td>\n",
       "      <td>9</td>\n",
       "    </tr>\n",
       "    <tr>\n",
       "      <td>27</td>\n",
       "      <td>28</td>\n",
       "      <td>450</td>\n",
       "    </tr>\n",
       "    <tr>\n",
       "      <td>28</td>\n",
       "      <td>29</td>\n",
       "      <td>Peter Jackson</td>\n",
       "    </tr>\n",
       "    <tr>\n",
       "      <td>29</td>\n",
       "      <td>30</td>\n",
       "      <td>Сентябрь</td>\n",
       "    </tr>\n",
       "    <tr>\n",
       "      <td>30</td>\n",
       "      <td>31</td>\n",
       "      <td>Four By Two Productions</td>\n",
       "    </tr>\n",
       "    <tr>\n",
       "      <td>31</td>\n",
       "      <td>32</td>\n",
       "      <td>Four By Two Productions</td>\n",
       "    </tr>\n",
       "    <tr>\n",
       "      <td>32</td>\n",
       "      <td>33</td>\n",
       "      <td>2461</td>\n",
       "    </tr>\n",
       "    <tr>\n",
       "      <td>33</td>\n",
       "      <td>34</td>\n",
       "      <td>The Lord of the Rings: The Return of the King</td>\n",
       "    </tr>\n",
       "    <tr>\n",
       "      <td>34</td>\n",
       "      <td>35</td>\n",
       "      <td>Daniel Radcliffe &amp; Rupert Grint</td>\n",
       "    </tr>\n",
       "    <tr>\n",
       "      <td>35</td>\n",
       "      <td>36</td>\n",
       "      <td>Christopher Nolan</td>\n",
       "    </tr>\n",
       "  </tbody>\n",
       "</table>\n",
       "</div>"
      ],
      "text/plain": [
       "    Id                                         Answer\n",
       "0    1                              The Warrior's Way\n",
       "1    2                              Gods and Generals\n",
       "2    3                                Winnie the Pooh\n",
       "3    4                                            110\n",
       "4    5                                            106\n",
       "5    6                                         Avatar\n",
       "6    7                              The Warrior's Way\n",
       "7    8                                           1478\n",
       "8    9                                The Dark Knight\n",
       "9   10                                The Lone Ranger\n",
       "10  11                                          Drama\n",
       "11  12                                          Drama\n",
       "12  13                              Steven Soderbergh\n",
       "13  14                                   Ridley Scott\n",
       "14  15                                  Peter Jackson\n",
       "15  16                                    Emma Watson\n",
       "16  17                                   Danny Huston\n",
       "17  18                                     Matt Damon\n",
       "18  19                                         Action\n",
       "19  20                                    Warner Bros\n",
       "20  21                                    Warner Bros\n",
       "21  22                             Universal Pictures\n",
       "22  23                              Columbia Pictures\n",
       "23  24                           K-19: The Widowmaker\n",
       "24  25                                           2015\n",
       "25  26                                           2014\n",
       "26  27                                              9\n",
       "27  28                                            450\n",
       "28  29                                  Peter Jackson\n",
       "29  30                                       Сентябрь\n",
       "30  31                        Four By Two Productions\n",
       "31  32                        Four By Two Productions\n",
       "32  33                                           2461\n",
       "33  34  The Lord of the Rings: The Return of the King\n",
       "34  35                Daniel Radcliffe & Rupert Grint\n",
       "35  36                              Christopher Nolan"
      ]
     },
     "execution_count": 731,
     "metadata": {},
     "output_type": "execute_result"
    }
   ],
   "source": [
    "pd.DataFrame({'Id':range(1,len(answer_ls)+1), 'Answer':answer_ls}, columns=['Id', 'Answer'])"
   ]
  },
  {
   "cell_type": "code",
   "execution_count": null,
   "metadata": {},
   "outputs": [],
   "source": []
  }
 ],
 "metadata": {
  "kernelspec": {
   "display_name": "Python 3",
   "language": "python",
   "name": "python3"
  },
  "language_info": {
   "codemirror_mode": {
    "name": "ipython",
    "version": 3
   },
   "file_extension": ".py",
   "mimetype": "text/x-python",
   "name": "python",
   "nbconvert_exporter": "python",
   "pygments_lexer": "ipython3",
   "version": "3.7.4"
  }
 },
 "nbformat": 4,
 "nbformat_minor": 4
}
